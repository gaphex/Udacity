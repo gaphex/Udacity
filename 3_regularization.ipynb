{
 "cells": [
  {
   "cell_type": "markdown",
   "metadata": {
    "colab_type": "text",
    "id": "kR-4eNdK6lYS"
   },
   "source": [
    "Deep Learning\n",
    "=============\n",
    "\n",
    "Assignment 3\n",
    "------------\n",
    "\n",
    "Previously in `2_fullyconnected.ipynb`, you trained a logistic regression and a neural network model.\n",
    "\n",
    "The goal of this assignment is to explore regularization techniques."
   ]
  },
  {
   "cell_type": "code",
   "execution_count": 1,
   "metadata": {
    "cellView": "both",
    "colab": {
     "autoexec": {
      "startup": false,
      "wait_interval": 0
     }
    },
    "colab_type": "code",
    "collapsed": true,
    "id": "JLpLa8Jt7Vu4"
   },
   "outputs": [],
   "source": [
    "# These are all the modules we'll be using later. Make sure you can import them\n",
    "# before proceeding further.\n",
    "from __future__ import print_function\n",
    "import numpy as np\n",
    "import tensorflow as tf\n",
    "from six.moves import cPickle as pickle"
   ]
  },
  {
   "cell_type": "markdown",
   "metadata": {
    "colab_type": "text",
    "id": "1HrCK6e17WzV"
   },
   "source": [
    "First reload the data we generated in _notmist.ipynb_."
   ]
  },
  {
   "cell_type": "code",
   "execution_count": 2,
   "metadata": {
    "cellView": "both",
    "colab": {
     "autoexec": {
      "startup": false,
      "wait_interval": 0
     },
     "output_extras": [
      {
       "item_id": 1
      }
     ]
    },
    "colab_type": "code",
    "collapsed": false,
    "executionInfo": {
     "elapsed": 11777,
     "status": "ok",
     "timestamp": 1449849322348,
     "user": {
      "color": "",
      "displayName": "",
      "isAnonymous": false,
      "isMe": true,
      "permissionId": "",
      "photoUrl": "",
      "sessionId": "0",
      "userId": ""
     },
     "user_tz": 480
    },
    "id": "y3-cj1bpmuxc",
    "outputId": "e03576f1-ebbe-4838-c388-f1777bcc9873"
   },
   "outputs": [
    {
     "name": "stdout",
     "output_type": "stream",
     "text": [
      "Training set (200000, 28, 28) (200000,)\n",
      "Validation set (10000, 28, 28) (10000,)\n",
      "Test set (10000, 28, 28) (10000,)\n"
     ]
    }
   ],
   "source": [
    "pickle_file = 'notMNIST.pickle'\n",
    "\n",
    "with open(pickle_file, 'rb') as f:\n",
    "  save = pickle.load(f)\n",
    "  train_dataset = save['train_dataset']\n",
    "  train_labels = save['train_labels']\n",
    "  valid_dataset = save['valid_dataset']\n",
    "  valid_labels = save['valid_labels']\n",
    "  test_dataset = save['test_dataset']\n",
    "  test_labels = save['test_labels']\n",
    "  del save  # hint to help gc free up memory\n",
    "  print('Training set', train_dataset.shape, train_labels.shape)\n",
    "  print('Validation set', valid_dataset.shape, valid_labels.shape)\n",
    "  print('Test set', test_dataset.shape, test_labels.shape)"
   ]
  },
  {
   "cell_type": "markdown",
   "metadata": {
    "colab_type": "text",
    "id": "L7aHrm6nGDMB"
   },
   "source": [
    "Reformat into a shape that's more adapted to the models we're going to train:\n",
    "- data as a flat matrix,\n",
    "- labels as float 1-hot encodings."
   ]
  },
  {
   "cell_type": "code",
   "execution_count": 3,
   "metadata": {
    "cellView": "both",
    "colab": {
     "autoexec": {
      "startup": false,
      "wait_interval": 0
     },
     "output_extras": [
      {
       "item_id": 1
      }
     ]
    },
    "colab_type": "code",
    "collapsed": false,
    "executionInfo": {
     "elapsed": 11728,
     "status": "ok",
     "timestamp": 1449849322356,
     "user": {
      "color": "",
      "displayName": "",
      "isAnonymous": false,
      "isMe": true,
      "permissionId": "",
      "photoUrl": "",
      "sessionId": "0",
      "userId": ""
     },
     "user_tz": 480
    },
    "id": "IRSyYiIIGIzS",
    "outputId": "3f8996ee-3574-4f44-c953-5c8a04636582"
   },
   "outputs": [
    {
     "name": "stdout",
     "output_type": "stream",
     "text": [
      "Training set (200000, 784) (200000, 10)\n",
      "Validation set (10000, 784) (10000, 10)\n",
      "Test set (10000, 784) (10000, 10)\n"
     ]
    }
   ],
   "source": [
    "image_size = 28\n",
    "num_labels = 10\n",
    "\n",
    "def reformat(dataset, labels):\n",
    "  dataset = dataset.reshape((-1, image_size * image_size)).astype(np.float32)\n",
    "  # Map 2 to [0.0, 1.0, 0.0 ...], 3 to [0.0, 0.0, 1.0 ...]\n",
    "  labels = (np.arange(num_labels) == labels[:,None]).astype(np.float32)\n",
    "  return dataset, labels\n",
    "train_dataset, train_labels = reformat(train_dataset, train_labels)\n",
    "valid_dataset, valid_labels = reformat(valid_dataset, valid_labels)\n",
    "test_dataset, test_labels = reformat(test_dataset, test_labels)\n",
    "print('Training set', train_dataset.shape, train_labels.shape)\n",
    "print('Validation set', valid_dataset.shape, valid_labels.shape)\n",
    "print('Test set', test_dataset.shape, test_labels.shape)"
   ]
  },
  {
   "cell_type": "code",
   "execution_count": 4,
   "metadata": {
    "cellView": "both",
    "colab": {
     "autoexec": {
      "startup": false,
      "wait_interval": 0
     }
    },
    "colab_type": "code",
    "collapsed": true,
    "id": "RajPLaL_ZW6w"
   },
   "outputs": [],
   "source": [
    "def accuracy(predictions, labels):\n",
    "  return (100.0 * np.sum(np.argmax(predictions, 1) == np.argmax(labels, 1))\n",
    "          / predictions.shape[0])"
   ]
  },
  {
   "cell_type": "markdown",
   "metadata": {
    "colab_type": "text",
    "id": "sgLbUAQ1CW-1"
   },
   "source": [
    "---\n",
    "Problem 1\n",
    "---------\n",
    "\n",
    "Introduce and tune L2 regularization for both logistic and neural network models. Remember that L2 amounts to adding a penalty on the norm of the weights to the loss. In TensorFlow, you can compute the L2 loss for a tensor `t` using `nn.l2_loss(t)`. The right amount of regularization should improve your validation / test accuracy.\n",
    "\n",
    "---"
   ]
  },
  {
   "cell_type": "code",
   "execution_count": 10,
   "metadata": {
    "collapsed": false
   },
   "outputs": [],
   "source": [
    "def model(X, w_h, b_h, w_h2, b_h2, w_o, b_o, p_keep_input, p_keep_hidden): \n",
    "\n",
    "    X = tf.nn.dropout(X, p_keep_input)\n",
    "    h = tf.nn.relu(tf.matmul(X, w_h)+b_h)\n",
    "\n",
    "    h = tf.nn.dropout(h, p_keep_hidden)\n",
    "    h2 = tf.nn.relu(tf.matmul(h, w_h2)+b_h2)\n",
    "\n",
    "    h2 = tf.nn.dropout(h2, p_keep_hidden)\n",
    "\n",
    "    return tf.matmul(h2, w_o)+b_o\n",
    "\n",
    "def model_det(X, w_h, b_h, w_h2, b_h2, w_o, b_o): \n",
    "\n",
    "    h = tf.nn.relu(tf.matmul(X, w_h)+b_h)\n",
    "    h2 = tf.nn.relu(tf.matmul(h, w_h2)+b_h2)\n",
    "\n",
    "    return tf.matmul(h2, w_o)+b_o\n",
    "\n",
    "def init_weights(shape):\n",
    "    return tf.Variable(tf.random_normal(shape, stddev=0.01))\n",
    "\n",
    "def accuracy(predictions, labels):\n",
    "  return (100.0 * np.sum(np.argmax(predictions, 1) == np.argmax(labels, 1))\n",
    "          / predictions.shape[0])\n",
    "\n",
    "def myaccuracy(u, v):\n",
    "  return 100.0*np.sum(u == np.argmax(v, 1))/u.shape[0]\n",
    "\n",
    "batch_size = 512\n",
    "\n",
    "graph = tf.Graph()\n",
    "with graph.as_default():\n",
    "\n",
    "  # Input data. For the training data, we use a placeholder that will be fed\n",
    "  # at run time with a training minibatch.\n",
    "  X = tf.placeholder(tf.float32,shape=(batch_size, image_size * image_size))\n",
    "  Y = tf.placeholder(tf.float32, shape=(batch_size, num_labels))\n",
    "  X_val = tf.constant(valid_dataset)\n",
    "  X_tst = tf.constant(test_dataset)\n",
    "\n",
    "  # Variables.\n",
    "  w_h = init_weights([784, 625])\n",
    "  b_h = init_weights([625])\n",
    "  w_h2 = init_weights([625, 625])\n",
    "  b_h2 = init_weights([625])\n",
    "  w_o = init_weights([625, 10])\n",
    "  b_o = init_weights([10])\n",
    "\n",
    "  p_keep_input = tf.constant(0.9)\n",
    "  p_keep_hidden = tf.constant(0.75)\n",
    "\n",
    "  py_x = model(X, w_h, b_h, w_h2, b_h2, w_o, b_o, p_keep_input, p_keep_hidden)\n",
    "  py_xtest = model_det(X_tst, w_h, b_h, w_h2, b_h2, w_o, b_o)\n",
    "  py_xval = model_det(X_val, w_h, b_h, w_h2, b_h2, w_o, b_o)\n",
    "  \n",
    "  \n",
    "  # Add the regularization term to the loss.\n",
    "  regularizers = (tf.nn.l2_loss(w_h) + tf.nn.l2_loss(b_h) +\n",
    "                  tf.nn.l2_loss(w_h2) + tf.nn.l2_loss(b_h2) +\n",
    "                  tf.nn.l2_loss(w_o) + tf.nn.l2_loss(b_o))\n",
    "  \n",
    "  # Training computation\n",
    "  loss = tf.reduce_mean(tf.nn.softmax_cross_entropy_with_logits(py_x, Y)) + 5e-4*regularizers\n",
    "  optimizer = tf.train.RMSPropOptimizer(0.001, 0.9).minimize(loss)\n",
    "  \n",
    "  # Predictions for the training, validation, and test data.\n",
    "  train_prediction = tf.argmax(py_x, 1)\n",
    "  valid_prediction = tf.argmax(py_xval, 1)\n",
    "  test_prediction = tf.argmax(py_xtest, 1)"
   ]
  },
  {
   "cell_type": "code",
   "execution_count": 11,
   "metadata": {
    "collapsed": false
   },
   "outputs": [
    {
     "name": "stdout",
     "output_type": "stream",
     "text": [
      "Initialized\n",
      "Minibatch loss at step 0: 2.325187\n",
      "Validation accuracy: 9.9%\n",
      "Test accuracy: 9.7%\n",
      "Minibatch loss at step 500: 0.607441\n",
      "Validation accuracy: 85.3%\n",
      "Test accuracy: 91.4%\n",
      "Minibatch loss at step 1000: 0.415126\n",
      "Validation accuracy: 87.7%\n",
      "Test accuracy: 93.4%\n",
      "Minibatch loss at step 1500: 0.492149\n",
      "Validation accuracy: 88.8%\n",
      "Test accuracy: 94.2%\n",
      "Minibatch loss at step 2000: 0.440133\n",
      "Validation accuracy: 89.0%\n",
      "Test accuracy: 94.3%\n",
      "Minibatch loss at step 2500: 0.406215\n",
      "Validation accuracy: 89.4%\n",
      "Test accuracy: 94.7%\n",
      "Minibatch loss at step 3000: 0.448152\n",
      "Validation accuracy: 89.1%\n",
      "Test accuracy: 94.3%\n",
      "Minibatch loss at step 3500: 0.451794\n",
      "Validation accuracy: 89.3%\n",
      "Test accuracy: 94.7%\n",
      "Minibatch loss at step 4000: 0.424621\n",
      "Validation accuracy: 89.5%\n",
      "Test accuracy: 95.0%\n",
      "Minibatch loss at step 4500: 0.475135\n",
      "Validation accuracy: 88.5%\n",
      "Test accuracy: 93.8%\n",
      "Minibatch loss at step 5000: 0.461938\n",
      "Validation accuracy: 89.3%\n",
      "Test accuracy: 94.8%\n",
      "Minibatch loss at step 5500: 0.543412\n",
      "Validation accuracy: 89.4%\n",
      "Test accuracy: 94.8%\n",
      "Minibatch loss at step 6000: 0.437692\n",
      "Validation accuracy: 89.7%\n",
      "Test accuracy: 95.0%\n",
      "Minibatch loss at step 6500: 0.397441\n",
      "Validation accuracy: 89.5%\n",
      "Test accuracy: 94.8%\n",
      "Minibatch loss at step 7000: 0.424291\n",
      "Validation accuracy: 89.5%\n",
      "Test accuracy: 95.0%\n",
      "Minibatch loss at step 7500: 0.526888\n",
      "Validation accuracy: 89.7%\n",
      "Test accuracy: 94.9%\n",
      "Minibatch loss at step 8000: 0.416103\n",
      "Validation accuracy: 89.5%\n",
      "Test accuracy: 94.9%\n",
      "Minibatch loss at step 8500: 0.423857\n",
      "Validation accuracy: 89.2%\n",
      "Test accuracy: 94.7%\n",
      "Minibatch loss at step 9000: 0.430121\n",
      "Validation accuracy: 89.2%\n",
      "Test accuracy: 94.8%\n",
      "Minibatch loss at step 9500: 0.429058\n",
      "Validation accuracy: 89.5%\n",
      "Test accuracy: 94.9%\n",
      "Minibatch loss at step 10000: 0.457661\n",
      "Validation accuracy: 89.8%\n",
      "Test accuracy: 94.8%\n",
      "Minibatch loss at step 10500: 0.500401\n",
      "Validation accuracy: 89.5%\n",
      "Test accuracy: 94.9%\n",
      "Minibatch loss at step 11000: 0.467454\n",
      "Validation accuracy: 89.8%\n",
      "Test accuracy: 95.2%\n",
      "Minibatch loss at step 11500: 0.510457\n",
      "Validation accuracy: 89.6%\n",
      "Test accuracy: 95.2%\n",
      "Minibatch loss at step 12000: 0.405611\n",
      "Validation accuracy: 90.1%\n",
      "Test accuracy: 95.5%\n",
      "Minibatch loss at step 12500: 0.462844\n",
      "Validation accuracy: 89.9%\n",
      "Test accuracy: 95.3%\n",
      "Minibatch loss at step 13000: 0.419278\n",
      "Validation accuracy: 89.5%\n",
      "Test accuracy: 95.0%\n",
      "Minibatch loss at step 13500: 0.405137\n",
      "Validation accuracy: 89.6%\n",
      "Test accuracy: 95.3%\n",
      "Minibatch loss at step 14000: 0.478097\n",
      "Validation accuracy: 90.1%\n",
      "Test accuracy: 95.3%\n",
      "Minibatch loss at step 14500: 0.395494\n",
      "Validation accuracy: 89.9%\n",
      "Test accuracy: 95.3%\n",
      "Minibatch loss at step 15000: 0.451008\n",
      "Validation accuracy: 90.4%\n",
      "Test accuracy: 95.5%\n"
     ]
    }
   ],
   "source": [
    "num_steps = 15001\n",
    "from random import sample\n",
    "\n",
    "with tf.Session(graph=graph) as session:\n",
    "  tf.initialize_all_variables().run()\n",
    "  print(\"Initialized\")\n",
    "  for step in range(num_steps):\n",
    "    # Pick an offset within the training data, which has been randomized.\n",
    "    # Note: we could use better randomization across epochs.\n",
    "    offset = (step * batch_size) % (train_labels.shape[0] - batch_size)\n",
    "    # Generate a minibatch.\n",
    "    batch_data = train_dataset[offset:(offset + batch_size), :]\n",
    "    batch_labels = train_labels[offset:(offset + batch_size), :]\n",
    "    # Prepare a dictionary telling the session where to feed the minibatch.\n",
    "    # The key of the dictionary is the placeholder node of the graph to be fed,\n",
    "    # and the value is the numpy array to feed to it.\n",
    "    feed_dict = {X : batch_data, Y : batch_labels}\n",
    "    _, l, predictions = session.run(\n",
    "      [optimizer, loss, train_prediction], feed_dict=feed_dict)\n",
    "    if (step % 500 == 0):\n",
    "      print(\"Minibatch loss at step %d: %f\" % (step, l))\n",
    "      u, v = predictions, batch_labels\n",
    "      #print(\"Minibatch accuracy: %.1f%%\" % myaccuracy(predictions, batch_labels))\n",
    "      print(\"Validation accuracy: %.1f%%\" % myaccuracy(valid_prediction.eval(), valid_labels))\n",
    "      print(\"Test accuracy: %.1f%%\" % myaccuracy(test_prediction.eval(), test_labels))"
   ]
  },
  {
   "cell_type": "markdown",
   "metadata": {
    "colab_type": "text",
    "id": "na8xX2yHZzNF"
   },
   "source": [
    "---\n",
    "Problem 2\n",
    "---------\n",
    "Let's demonstrate an extreme case of overfitting. Restrict your training data to just a few batches. What happens? \n",
    "### Overfitting.\n",
    "\n",
    "---"
   ]
  },
  {
   "cell_type": "markdown",
   "metadata": {
    "colab_type": "text",
    "id": "ww3SCBUdlkRc"
   },
   "source": [
    "---\n",
    "Problem 3\n",
    "---------\n",
    "Introduce Dropout on the hidden layer of the neural network. Remember: Dropout should only be introduced during training, not evaluation, otherwise your evaluation results would be stochastic as well. TensorFlow provides `nn.dropout()` for that, but you have to make sure it's only inserted during training.\n",
    "\n",
    "What happens to our extreme overfitting case?\n",
    "\n",
    "---"
   ]
  },
  {
   "cell_type": "markdown",
   "metadata": {
    "colab_type": "text",
    "id": "-b1hTz3VWZjw"
   },
   "source": [
    "---\n",
    "Problem 4\n",
    "---------\n",
    "\n",
    "Try to get the best performance you can using a multi-layer model! The best reported test accuracy using a deep network is [97.1%](http://yaroslavvb.blogspot.com/2011/09/notmnist-dataset.html?showComment=1391023266211#c8758720086795711595).\n",
    "\n",
    "One avenue you can explore is to add multiple layers.\n",
    "\n",
    "Another one is to use learning rate decay:\n",
    "\n",
    "    global_step = tf.Variable(0)  # count the number of steps taken.\n",
    "    learning_rate = tf.train.exponential_decay(0.5, global_step, ...)\n",
    "    optimizer = tf.train.GradientDescentOptimizer(learning_rate).minimize(loss, global_step=global_step)\n",
    " \n",
    " ---\n"
   ]
  }
 ],
 "metadata": {
  "colab": {
   "default_view": {},
   "name": "3_regularization.ipynb",
   "provenance": [],
   "version": "0.3.2",
   "views": {}
  },
  "kernelspec": {
   "display_name": "Python 2",
   "language": "python",
   "name": "python2"
  },
  "language_info": {
   "codemirror_mode": {
    "name": "ipython",
    "version": 2
   },
   "file_extension": ".py",
   "mimetype": "text/x-python",
   "name": "python",
   "nbconvert_exporter": "python",
   "pygments_lexer": "ipython2",
   "version": "2.7.6"
  }
 },
 "nbformat": 4,
 "nbformat_minor": 0
}
