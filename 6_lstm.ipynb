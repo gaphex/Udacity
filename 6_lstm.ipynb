{
 "cells": [
  {
   "cell_type": "code",
   "execution_count": null,
   "metadata": {
    "colab_type": "text",
    "collapsed": false,
    "id": "8tQJd2YSCfWR"
   },
   "outputs": [],
   "source": []
  },
  {
   "cell_type": "markdown",
   "metadata": {
    "colab_type": "text",
    "id": "D7tqLMoKF6uq"
   },
   "source": [
    "Deep Learning\n",
    "=============\n",
    "\n",
    "Assignment 6\n",
    "------------\n",
    "\n",
    "After training a skip-gram model in `5_word2vec.ipynb`, the goal of this notebook is to train a LSTM character model over [Text8](http://mattmahoney.net/dc/textdata) data."
   ]
  },
  {
   "cell_type": "code",
   "execution_count": 1,
   "metadata": {
    "cellView": "both",
    "colab": {
     "autoexec": {
      "startup": false,
      "wait_interval": 0
     }
    },
    "colab_type": "code",
    "collapsed": true,
    "id": "MvEblsgEXxrd"
   },
   "outputs": [],
   "source": [
    "# These are all the modules we'll be using later. Make sure you can import them\n",
    "# before proceeding further.\n",
    "from __future__ import print_function\n",
    "import os\n",
    "import numpy as np\n",
    "import random\n",
    "import string\n",
    "import tensorflow as tf\n",
    "import zipfile\n",
    "from six.moves import range\n",
    "from six.moves.urllib.request import urlretrieve\n",
    "\n",
    "from tensorflow.python.ops.math_ops import tanh\n",
    "from tensorflow.python.ops import array_ops"
   ]
  },
  {
   "cell_type": "code",
   "execution_count": 2,
   "metadata": {
    "cellView": "both",
    "colab": {
     "autoexec": {
      "startup": false,
      "wait_interval": 0
     },
     "output_extras": [
      {
       "item_id": 1
      }
     ]
    },
    "colab_type": "code",
    "collapsed": false,
    "executionInfo": {
     "elapsed": 5993,
     "status": "ok",
     "timestamp": 1445965582896,
     "user": {
      "color": "#1FA15D",
      "displayName": "Vincent Vanhoucke",
      "isAnonymous": false,
      "isMe": true,
      "permissionId": "05076109866853157986",
      "photoUrl": "//lh6.googleusercontent.com/-cCJa7dTDcgQ/AAAAAAAAAAI/AAAAAAAACgw/r2EZ_8oYer4/s50-c-k-no/photo.jpg",
      "sessionId": "6f6f07b359200c46",
      "userId": "102167687554210253930"
     },
     "user_tz": 420
    },
    "id": "RJ-o3UBUFtCw",
    "outputId": "d530534e-0791-4a94-ca6d-1c8f1b908a9e"
   },
   "outputs": [
    {
     "name": "stdout",
     "output_type": "stream",
     "text": [
      "Found and verified text8.zip\n"
     ]
    }
   ],
   "source": [
    "url = 'http://mattmahoney.net/dc/'\n",
    "\n",
    "def maybe_download(filename, expected_bytes):\n",
    "  \"\"\"Download a file if not present, and make sure it's the right size.\"\"\"\n",
    "  if not os.path.exists(filename):\n",
    "    filename, _ = urlretrieve(url + filename, filename)\n",
    "  statinfo = os.stat(filename)\n",
    "  if statinfo.st_size == expected_bytes:\n",
    "    print('Found and verified %s' % filename)\n",
    "  else:\n",
    "    print(statinfo.st_size)\n",
    "    raise Exception(\n",
    "      'Failed to verify ' + filename + '. Can you get to it with a browser?')\n",
    "  return filename\n",
    "\n",
    "filename = maybe_download('text8.zip', 31344016)"
   ]
  },
  {
   "cell_type": "code",
   "execution_count": 3,
   "metadata": {
    "cellView": "both",
    "colab": {
     "autoexec": {
      "startup": false,
      "wait_interval": 0
     },
     "output_extras": [
      {
       "item_id": 1
      }
     ]
    },
    "colab_type": "code",
    "collapsed": false,
    "executionInfo": {
     "elapsed": 5982,
     "status": "ok",
     "timestamp": 1445965582916,
     "user": {
      "color": "#1FA15D",
      "displayName": "Vincent Vanhoucke",
      "isAnonymous": false,
      "isMe": true,
      "permissionId": "05076109866853157986",
      "photoUrl": "//lh6.googleusercontent.com/-cCJa7dTDcgQ/AAAAAAAAAAI/AAAAAAAACgw/r2EZ_8oYer4/s50-c-k-no/photo.jpg",
      "sessionId": "6f6f07b359200c46",
      "userId": "102167687554210253930"
     },
     "user_tz": 420
    },
    "id": "Mvf09fjugFU_",
    "outputId": "8f75db58-3862-404b-a0c3-799380597390"
   },
   "outputs": [
    {
     "name": "stdout",
     "output_type": "stream",
     "text": [
      "Data size 100000000\n"
     ]
    }
   ],
   "source": [
    "def read_data(filename):\n",
    "  f = zipfile.ZipFile(filename)\n",
    "  for name in f.namelist():\n",
    "    return tf.compat.as_str(f.read(name))\n",
    "  f.close()\n",
    "  \n",
    "text = read_data(filename)\n",
    "print('Data size %d' % len(text))"
   ]
  },
  {
   "cell_type": "markdown",
   "metadata": {
    "colab_type": "text",
    "id": "ga2CYACE-ghb"
   },
   "source": [
    "Create a small validation set."
   ]
  },
  {
   "cell_type": "code",
   "execution_count": 4,
   "metadata": {
    "cellView": "both",
    "colab": {
     "autoexec": {
      "startup": false,
      "wait_interval": 0
     },
     "output_extras": [
      {
       "item_id": 1
      }
     ]
    },
    "colab_type": "code",
    "collapsed": false,
    "executionInfo": {
     "elapsed": 6184,
     "status": "ok",
     "timestamp": 1445965583138,
     "user": {
      "color": "#1FA15D",
      "displayName": "Vincent Vanhoucke",
      "isAnonymous": false,
      "isMe": true,
      "permissionId": "05076109866853157986",
      "photoUrl": "//lh6.googleusercontent.com/-cCJa7dTDcgQ/AAAAAAAAAAI/AAAAAAAACgw/r2EZ_8oYer4/s50-c-k-no/photo.jpg",
      "sessionId": "6f6f07b359200c46",
      "userId": "102167687554210253930"
     },
     "user_tz": 420
    },
    "id": "w-oBpfFG-j43",
    "outputId": "bdb96002-d021-4379-f6de-a977924f0d02"
   },
   "outputs": [
    {
     "name": "stdout",
     "output_type": "stream",
     "text": [
      "99999000 ons anarchists advocate social relations based upon voluntary as\n",
      "1000  anarchism originated as a term of abuse first used against earl\n"
     ]
    }
   ],
   "source": [
    "valid_size = 1000\n",
    "valid_text = text[:valid_size]\n",
    "train_text = text[valid_size:]\n",
    "train_size = len(train_text)\n",
    "print(train_size, train_text[:64])\n",
    "print(valid_size, valid_text[:64])"
   ]
  },
  {
   "cell_type": "markdown",
   "metadata": {
    "colab_type": "text",
    "id": "Zdw6i4F8glpp"
   },
   "source": [
    "Utility functions to map characters to vocabulary IDs and back."
   ]
  },
  {
   "cell_type": "code",
   "execution_count": 5,
   "metadata": {
    "collapsed": true
   },
   "outputs": [],
   "source": [
    "vocabulary_size = len(string.ascii_lowercase) + 1 # [a-z] + ' '\n",
    "first_letter = ord(string.ascii_lowercase[0])\n",
    "\n",
    "def char2id(char):\n",
    "  if char in string.ascii_lowercase:\n",
    "    return ord(char) - first_letter + 1\n",
    "  elif char == ' ':\n",
    "    return 0\n",
    "  else:\n",
    "    print('Unexpected character: %s' % char)\n",
    "    return 0\n",
    "  \n",
    "def id2char(dictid):\n",
    "  if dictid > 0:\n",
    "    return chr(dictid + first_letter - 1)\n",
    "  else:\n",
    "    return ' '"
   ]
  },
  {
   "cell_type": "code",
   "execution_count": 6,
   "metadata": {
    "cellView": "both",
    "colab": {
     "autoexec": {
      "startup": false,
      "wait_interval": 0
     },
     "output_extras": [
      {
       "item_id": 1
      }
     ]
    },
    "colab_type": "code",
    "collapsed": false,
    "executionInfo": {
     "elapsed": 6276,
     "status": "ok",
     "timestamp": 1445965583249,
     "user": {
      "color": "#1FA15D",
      "displayName": "Vincent Vanhoucke",
      "isAnonymous": false,
      "isMe": true,
      "permissionId": "05076109866853157986",
      "photoUrl": "//lh6.googleusercontent.com/-cCJa7dTDcgQ/AAAAAAAAAAI/AAAAAAAACgw/r2EZ_8oYer4/s50-c-k-no/photo.jpg",
      "sessionId": "6f6f07b359200c46",
      "userId": "102167687554210253930"
     },
     "user_tz": 420
    },
    "id": "gAL1EECXeZsD",
    "outputId": "88fc9032-feb9-45ff-a9a0-a26759cc1f2e"
   },
   "outputs": [],
   "source": [
    "def characters(probabilities):\n",
    "  \"\"\"Turn a 1-hot encoding or a probability distribution over the possible\n",
    "  characters back into its (most likely) character representation.\"\"\"\n",
    "  return [id2char(c) for c in np.argmax(probabilities, 1)]\n",
    "\n",
    "def batches2string(batches):\n",
    "  \"\"\"Convert a sequence of batches back into their (most likely) string\n",
    "  representation.\"\"\"\n",
    "  s = [''] * batches[0].shape[0]\n",
    "  for b in batches:\n",
    "    s = [''.join(x) for x in zip(s, characters(b))]\n",
    "  return s"
   ]
  },
  {
   "cell_type": "code",
   "execution_count": 7,
   "metadata": {
    "collapsed": false
   },
   "outputs": [
    {
     "name": "stdout",
     "output_type": "stream",
     "text": [
      "Unexpected character: ï\n",
      "1 26 0 0\n",
      "a z  \n"
     ]
    }
   ],
   "source": [
    "print(char2id('a'), char2id('z'), char2id(' '), char2id('ï'))\n",
    "print(id2char(1), id2char(26), id2char(0))"
   ]
  },
  {
   "cell_type": "markdown",
   "metadata": {
    "colab_type": "text",
    "id": "lFwoyygOmWsL"
   },
   "source": [
    "Function to generate a training batch for the LSTM model."
   ]
  },
  {
   "cell_type": "code",
   "execution_count": 8,
   "metadata": {
    "collapsed": true
   },
   "outputs": [],
   "source": [
    "batch_size=256\n",
    "num_unrollings=10"
   ]
  },
  {
   "cell_type": "code",
   "execution_count": 9,
   "metadata": {
    "cellView": "both",
    "colab": {
     "autoexec": {
      "startup": false,
      "wait_interval": 0
     },
     "output_extras": [
      {
       "item_id": 1
      }
     ]
    },
    "colab_type": "code",
    "collapsed": false,
    "executionInfo": {
     "elapsed": 6473,
     "status": "ok",
     "timestamp": 1445965583467,
     "user": {
      "color": "#1FA15D",
      "displayName": "Vincent Vanhoucke",
      "isAnonymous": false,
      "isMe": true,
      "permissionId": "05076109866853157986",
      "photoUrl": "//lh6.googleusercontent.com/-cCJa7dTDcgQ/AAAAAAAAAAI/AAAAAAAACgw/r2EZ_8oYer4/s50-c-k-no/photo.jpg",
      "sessionId": "6f6f07b359200c46",
      "userId": "102167687554210253930"
     },
     "user_tz": 420
    },
    "id": "d9wMtjy5hCj9",
    "outputId": "3dd79c80-454a-4be0-8b71-4a4a357b3367"
   },
   "outputs": [
    {
     "name": "stdout",
     "output_type": "stream",
     "text": [
      "['ons anarchi', 'bout it in ', 'nomination ', 'lower here ', 'when milita', 'ogenetic ap', ' three nine', 'unced that ', 'lleria arch', 'any he did ', 'reviated as', 'unce the wo', ' abbeys and', 'one a a gen', 'shing the r', 's of it to ', 'married urr', 'ouncil twic', 'sity upset ', 'toon advent', 'hel and ric', 't used the ', 'ased in the', 'settled the', 'y and litur', 'nes flight ', ' disgust be', 'tury the wa', 'ay opened f', ' were a tri', 'society and', 'hree mm zer', 'tion from t', 'y the human', 'ago based c', 'each the dh', 'migration t', 's one zero ', ' zero zero ', 'rick and al', 'new york ot', 'ycles have ', 'short subje', 'sample code', 'he boeing s', 'em a year l', 'sgow two yo', 'ne nine eig', 'e listed wi', 'ill even mo', 'lt during t', 'ine one it ', 'eber has pr', ' x three an', ' not dead n', 'f the team ', 'o be made t', 'hy essentia', 'll s enthus', 'unds the mo', 'yer who rec', ' a step or ', 'operates th', 's has been ', 'ore signifi', ' community ', 'rmines secu', 'se were pub', 'a fierce cr', 'often used ', ' fuel extra', 'h are used ', ' two six ei', 'tland which', 'ature that ', 'e three two', 'aristotle s', ' about one ', 'e dragas co', 'hree five f', 'ity can be ', ' popularity', 'ecombinant ', 're both wor', ' and intrac', 'believed to', 'tensive man', 'established', 'tion of the', 'sored by th', 'he attack f', 'l elements ', 'dy to pass ', 'the number ', 'ed to bring', 'king the en', 'f certain d', 'yed in ezek', 'french jans', 'vance gba d', 'at it will ', 'racter dies', 'tion from e', 'inating it ', 'e convince ', 'm the john ', 'ither spont', 'their praye', 'ent told hi', 'ee six whic', 'argest part', 'jebas balen', 'ampaign and', 'wo zero th ', 'ce in a spe', 'aryotic org', 'rver side s', ' ripening o', 'gain the am', 'he agency t', 'ious texts ', 'ands entire', ' assignment', 'hifley labo', 'o capitaliz', 'is pronounc', 'rettas fran', ' other exot', 'a duplicate', ' disks with', 'former is w', ' two six on', 'gh ann es d', 'in a song f', 'g the serie', 'such as rid', 'ine january', 'g should be', 'ar it is po', 'ections of ', 'ross zero t', ' for exampl', 's worldwide', 'y knowledge', 'cal theorie', 'ro ad by co', 'f an inch t', 'nds ed robe', 'ast instanc', 'ends to des', 'e phantom a', 'gives out t', ' dimensiona', 'ithdrew bra', 'as pi appro', ' was a tire', 'most holy m', 'uman story ', 'fice did no', ' telecommun', 't s support', 'iod of tran', 'olunteers o', 'melville s ', 'u is still ', 'tures in on', 'e end of wo', ' campaignin', 'e oscillati', ' zero zero ', 'tain its su', 'ed on colon', 'o eight sub', 'chusetts me', 'normal cour', 'od of war e', 'of italy la', 'ith which h', 'e of the le', ' software p', 's the tower', 'and written', 'e icj repor', 'respond exa', 'klahoma pre', 'ar kinds of', ' most of th', 'ed him to c', 'erprise lin', 'e six large', ' running of', 'ica parts o', 'ws becomes ', 'ine six nin', 'lization ab', 'in february', 'et in a naz', 'e seven the', 'ey accepted', 'ife of grod', 'the fabian ', 'an t be see', ' help when ', 'ons this pr', 'etchy to re', 'n systems a', 'ng bombs wi', 'press robin', ' sharman ne', ' robbe gril', 'laces for k', ' long barre', 'ised empero', 'liably be u', 'erican foot', 'factor but ', 'ting in pol', 'four zero f', 'nd has been', 'he theory o', 'd neo latin', 'erger one n', 'seco the a ', 'rong was a ', 'th risky ri', 'they hear g', 'er donna tr', 'm paramedic', 'encyclopedi', 'ndows also ', 'rall defini', 'city is one', 'fense the a', 'struction a', 'ecause of c', 'three one b', 'duating fro', ' grappling ', 'ifferent fo', ' doomed it ', 'treet grid ', 'r four zero', 'n militant ', 'or by food ', 'ations more', 'studies the', 'etal compou', ' in show bu', 'appeal of d', ' types of m', 'rs larry an', 'me three of', 'si have mad', ' called cla', 'ncluding em', 'ficult to c']\n",
      "['ists advoca', ' part two c', ' gore s end', ' the whole ', 'ary governm', 'pproach two', 'e one six z', ' atheism wo', 'hes nationa', ' not protes', 's dr mr and', 'ord america', 'd monasteri', 'neral inver', 'right of ap', ' make the d', 'raca prince', 'ce in their', ' the devils', 'tures had p', 'chard baer ', ' rom routin', 'e st family', 'e arctic fo', 'rgical lang', ' six two fi', 'ecause of t', 'aters were ', 'for passeng', 'ibe of sout', 'd that this', 'ro five in ', 'the nationa', 'ns ash init', 'chess recor', 'harma he wa', 'took place ', ' zero zero ', ' five yaniv', 'lfred rosen', 'ther well k', ' small whee', 'ect college', 'e for c and', 'seven six s', 'later moore', 'oung white ', 'ght zero s ', 'ith a gloss', 'ore content', 'this period', ' was known ', 'robably bee', 'nd x one or', 'naturally a', ' s success ', 'to recogniz', 'ally elemen', 'siastic bac', 'ost promine', 'ceived the ', ' two toward', 'hree submar', ' enjoyed an', 'icant than ', ' college ne', 'urity of th', 'blished as ', 'ritic of th', ' in a more ', 'acted from ', ' to this da', 'ight in sig', 'h then beca', ' was attack', 'o four ocke', 's uncaused ', ' zero zero ', 'onstantine ', 'four two vo', ' lost as in', 'y and moral', ' region and', 'rking on de', 'cellular ic', 'o be import', 'nufacturing', 'd lyell s c', 'e size of t', 'he russell ', 'from hyrsyl', ' or trachei', ' him a stic', ' q by one p', 'g good fort', 'nd of his p', 'drugs confu', 'kiel two ei', 'senist theo', 'dragon ball', ' take to co', 's all items', 'euclidean g', ' and the me', ' the priest', ' connally u', 'taneously o', 'ers a force', 'im to name ', 'ch became t', 'tner of the', 'ngues and b', 'd barred at', ' century ea', 'ecial cell ', 'ganelles ma', 'standard fo', 'of fruit th', 'mplified si', 'to change t', ' such as es', 'ely upon th', 't of number', 'or governme', 'ze on the g', 'ced and tha', 'ncis poulen', 'tic technol', 'e of the or', 'h questiona', 'widely used', 'ne nine nin', 'd hiver one', 'for sinatra', 'es to a sev', 'ddles child', 'y eight mar', 'e moved so ', 'ossible the', ' this artic', 'the lead ch', 'le a carrie', 'e after eng', 'e of the em', 'es classica', 'onstantine ', 'they were f', 'ert silverb', 'ce the non ', 'scribe deat', 'appear on s', 'the award i', 'al analysis', 'andenburg f', 'ox frac the', 'eless worke', 'mormons bel', ' from histo', 'ot become f', 'nications i', 't or at lea', 'nsformation', 'originally ', ' lifetime e', ' disagreed ', 'ne nine two', 'orld war ii', 'ng in recog', 'ing system ', ' five isbn ', 'urface area', 'nial troops', 'btypes base', 'erely looke', 'rse of stud', 'eventually ', 'anguages th', 'he or she a', 'eadership a', 'patent worl', 'r commissio', 'n after the', 'rts seven s', 'actly to th', 'ess one nin', 'f insurance', 'he indictee', 'carefully o', 'nux suse li', 'est cities ', 'f the house', 'of kingston', ' the first ', 'ne get back', 'bout the pe', 'y one six e', 'zi concentr', 'e country y', 'd a proposa', 'dno and lit', ' society ne', 'en the wond', ' the queen ', 'revented th', 'elatively s', 'according t', 'ith global ', 'nson also e', 'etworks sha', 'llet and je', 'karaoke and', 'el and stoc', 'or hirohito', 'used to ind', 'tball and a', ' trakl kill', 'litical ini', 'fear one ni', 'n awarded t', 'of outer me', 'n most of t', 'nine eight ', ' s took an ', ' charismati', 'iskerdoo ri', 'god s word ', 'roy who is ', 'cs backstag', 'ic overview', ' comes with', 'ition of sp', 'e m s due t', 'air compone', 'all private', 'communist r', 'but observe', 'om acnm acc', ' and submis', 'ocal planes', ' history th', ' centerline', 'o of first ', ' union lead', ' is also po', 'e than any ', 'e ship as a', 'unds such a', 'usiness as ', 'devotional ', 'micronation', 'nd james on', 'f the one n', 'de such dev', 'assical lim', 'mployees of', 'clean as ma']\n",
      "[' a']\n",
      "['an']\n"
     ]
    }
   ],
   "source": [
    "class BatchGenerator(object):\n",
    "  def __init__(self, text, batch_size, num_unrollings):\n",
    "    self._text = text\n",
    "    self._text_size = len(text)\n",
    "    self._batch_size = batch_size\n",
    "    self._num_unrollings = num_unrollings\n",
    "    segment = self._text_size // batch_size\n",
    "    self._cursor = [ offset * segment for offset in range(batch_size)]\n",
    "    self._last_batch = self._next_batch()\n",
    "  \n",
    "  def _next_batch(self):\n",
    "    \"\"\"Generate a single batch from the current cursor position in the data.\"\"\"\n",
    "    batch = np.zeros(shape=(self._batch_size, vocabulary_size), dtype=np.float)\n",
    "    for b in range(self._batch_size):\n",
    "      batch[b, char2id(self._text[self._cursor[b]])] = 1.0\n",
    "      self._cursor[b] = (self._cursor[b] + 1) % self._text_size\n",
    "    return batch\n",
    "  \n",
    "  def next(self):\n",
    "    \"\"\"Generate the next array of batches from the data. The array consists of\n",
    "    the last batch of the previous array, followed by num_unrollings new ones.\n",
    "    \"\"\"\n",
    "    batches = [self._last_batch]\n",
    "    for step in range(self._num_unrollings):\n",
    "      batches.append(self._next_batch())\n",
    "    self._last_batch = batches[-1]\n",
    "    return batches\n",
    "\n",
    "train_batches = BatchGenerator(train_text, batch_size, num_unrollings)\n",
    "valid_batches = BatchGenerator(valid_text, 1, 1)\n",
    "\n",
    "print(batches2string(train_batches.next()))\n",
    "print(batches2string(train_batches.next()))\n",
    "print(batches2string(valid_batches.next()))\n",
    "print(batches2string(valid_batches.next()))"
   ]
  },
  {
   "cell_type": "code",
   "execution_count": null,
   "metadata": {
    "collapsed": false
   },
   "outputs": [],
   "source": []
  },
  {
   "cell_type": "code",
   "execution_count": null,
   "metadata": {
    "collapsed": false
   },
   "outputs": [],
   "source": []
  },
  {
   "cell_type": "code",
   "execution_count": 10,
   "metadata": {
    "cellView": "both",
    "colab": {
     "autoexec": {
      "startup": false,
      "wait_interval": 0
     }
    },
    "colab_type": "code",
    "collapsed": true,
    "id": "KyVd8FxT5QBc"
   },
   "outputs": [],
   "source": [
    "def logprob(predictions, labels):\n",
    "  \"\"\"Log-probability of the true labels in a predicted batch.\"\"\"\n",
    "  predictions[predictions < 1e-10] = 1e-10\n",
    "  return np.sum(np.multiply(labels, -np.log(predictions))) / labels.shape[0]\n",
    "\n",
    "def sample_distribution(distribution):\n",
    "  \"\"\"Sample one element from a distribution assumed to be an array of normalized\n",
    "  probabilities.\n",
    "  \"\"\"\n",
    "  r = random.uniform(0, 1)\n",
    "  s = 0\n",
    "  for i in range(len(distribution)):\n",
    "    s += distribution[i]\n",
    "    if s >= r:\n",
    "      return i\n",
    "  return len(distribution) - 1\n",
    "\n",
    "def sample(prediction):\n",
    "  \"\"\"Turn a (column) prediction into 1-hot encoded samples.\"\"\"\n",
    "  p = np.zeros(shape=[1, vocabulary_size], dtype=np.float)\n",
    "  p[0, sample_distribution(prediction[0])] = 1.0\n",
    "  return p\n",
    "\n",
    "def random_distribution():\n",
    "  \"\"\"Generate a random column of probabilities.\"\"\"\n",
    "  b = np.random.uniform(0.0, 1.0, size=[1, vocabulary_size])\n",
    "  return b/np.sum(b, 1)[:,None]"
   ]
  },
  {
   "cell_type": "markdown",
   "metadata": {
    "colab_type": "text",
    "id": "K8f67YXaDr4C"
   },
   "source": [
    "Simple LSTM Model."
   ]
  },
  {
   "cell_type": "code",
   "execution_count": null,
   "metadata": {
    "cellView": "both",
    "colab": {
     "autoexec": {
      "startup": false,
      "wait_interval": 0
     }
    },
    "colab_type": "code",
    "collapsed": false,
    "id": "Q5rxZK6RDuGe"
   },
   "outputs": [],
   "source": []
  },
  {
   "cell_type": "code",
   "execution_count": 11,
   "metadata": {
    "collapsed": false
   },
   "outputs": [],
   "source": [
    "num_nodes = 64\n",
    "\n",
    "graph = tf.Graph()\n",
    "with graph.as_default():\n",
    "  \n",
    "  # Parameters:\n",
    "  # Input gate: input, previous output, and bias.\n",
    "  ix = tf.Variable(tf.truncated_normal([vocabulary_size, num_nodes], -0.1, 0.1))\n",
    "  im = tf.Variable(tf.truncated_normal([num_nodes, num_nodes], -0.1, 0.1))\n",
    "  ib = tf.Variable(tf.zeros([1, num_nodes]))\n",
    "  # Forget gate: input, previous output, and bias.\n",
    "  fx = tf.Variable(tf.truncated_normal([vocabulary_size, num_nodes], -0.1, 0.1))\n",
    "  fm = tf.Variable(tf.truncated_normal([num_nodes, num_nodes], -0.1, 0.1))\n",
    "  fb = tf.Variable(tf.zeros([1, num_nodes]))\n",
    "  # Memory cell: input, state and bias.                             \n",
    "  cx = tf.Variable(tf.truncated_normal([vocabulary_size, num_nodes], -0.1, 0.1))\n",
    "  cm = tf.Variable(tf.truncated_normal([num_nodes, num_nodes], -0.1, 0.1))\n",
    "  cb = tf.Variable(tf.zeros([1, num_nodes]))\n",
    "  # Output gate: input, previous output, and bias.\n",
    "  ox = tf.Variable(tf.truncated_normal([vocabulary_size, num_nodes], -0.1, 0.1))\n",
    "  om = tf.Variable(tf.truncated_normal([num_nodes, num_nodes], -0.1, 0.1))\n",
    "  ob = tf.Variable(tf.zeros([1, num_nodes]))\n",
    "  # Variables saving state across unrollings.\n",
    "  saved_output = tf.Variable(tf.zeros([batch_size, num_nodes]), trainable=False)\n",
    "  saved_state = tf.Variable(tf.zeros([batch_size, num_nodes]), trainable=False)\n",
    "  # Classifier weights and biases.\n",
    "  w = tf.Variable(tf.truncated_normal([num_nodes, vocabulary_size], -0.1, 0.1))\n",
    "  b = tf.Variable(tf.zeros([vocabulary_size]))\n",
    "  \n",
    "  # Definition of the cell computation.\n",
    "  def lstm_cell(i, o, state):\n",
    "\n",
    "    ic = tf.matmul(i, array_ops.concat(concat_dim=1, values=[ix,fx,cx,ox]))\n",
    "    oc = tf.matmul(o, array_ops.concat(concat_dim=1, values=[im,fm,cm,om]))\n",
    "    \n",
    "    iix, ifx, icx, iox = array_ops.split(1, 4, ic)\n",
    "    oim, ofm, ocm, oom = array_ops.split(1, 4, oc)\n",
    "    \n",
    "    input_gate = tf.sigmoid(iix + oim + ib)\n",
    "    forget_gate = tf.sigmoid(ifx + ofm + fb)\n",
    "    output_gate = tf.sigmoid(iox + oom + ob)\n",
    "    \n",
    "    update = icx + ocm + cb\n",
    "    state = forget_gate * state + input_gate * tf.tanh(update)\n",
    "    \n",
    "    return output_gate * tf.tanh(state), state\n",
    "\n",
    "  # Input data.\n",
    "  train_data = list()\n",
    "  for _ in range(num_unrollings + 1):\n",
    "    train_data.append(\n",
    "      tf.placeholder(tf.float32, shape=[batch_size,vocabulary_size]))\n",
    "  train_inputs = train_data[:num_unrollings]\n",
    "  train_labels = train_data[1:]  # labels are inputs shifted by one time step.\n",
    "\n",
    "  # Unrolled LSTM loop.\n",
    "  outputs = list()\n",
    "  output = saved_output\n",
    "  state = saved_state\n",
    "  for i in train_inputs:\n",
    "    output, state = lstm_cell(i, output, state)\n",
    "    outputs.append(output)\n",
    "\n",
    "  # State saving across unrollings.\n",
    "  with tf.control_dependencies([saved_output.assign(output),\n",
    "                                saved_state.assign(state)]):\n",
    "    # Classifier.\n",
    "    logits = tf.nn.xw_plus_b(tf.concat(0, outputs), w, b)\n",
    "    loss = tf.reduce_mean(\n",
    "      tf.nn.softmax_cross_entropy_with_logits(\n",
    "        logits, tf.concat(0, train_labels)))\n",
    "\n",
    "  # Optimizer.\n",
    "  global_step = tf.Variable(0)\n",
    "  learning_rate = tf.train.exponential_decay(\n",
    "    10.0, global_step, 5000, 0.1, staircase=True)\n",
    "  optimizer = tf.train.GradientDescentOptimizer(learning_rate)\n",
    "  gradients, v = zip(*optimizer.compute_gradients(loss))\n",
    "  gradients, _ = tf.clip_by_global_norm(gradients, 1.25)\n",
    "  optimizer = optimizer.apply_gradients(\n",
    "    zip(gradients, v), global_step=global_step)\n",
    "\n",
    "  # Predictions.\n",
    "  train_prediction = tf.nn.softmax(logits)\n",
    "  \n",
    "  # Sampling and validation eval: batch 1, no unrolling.\n",
    "  sample_input = tf.placeholder(tf.float32, shape=[1, vocabulary_size])\n",
    "  saved_sample_output = tf.Variable(tf.zeros([1, num_nodes]))\n",
    "  saved_sample_state = tf.Variable(tf.zeros([1, num_nodes]))\n",
    "  reset_sample_state = tf.group(\n",
    "    saved_sample_output.assign(tf.zeros([1, num_nodes])),\n",
    "    saved_sample_state.assign(tf.zeros([1, num_nodes])))\n",
    "  sample_output, sample_state = lstm_cell(\n",
    "    sample_input, saved_sample_output, saved_sample_state)\n",
    "  with tf.control_dependencies([saved_sample_output.assign(sample_output),\n",
    "                                saved_sample_state.assign(sample_state)]):\n",
    "    sample_prediction = tf.nn.softmax(tf.nn.xw_plus_b(sample_output, w, b))"
   ]
  },
  {
   "cell_type": "code",
   "execution_count": 12,
   "metadata": {
    "cellView": "both",
    "colab": {
     "autoexec": {
      "startup": false,
      "wait_interval": 0
     },
     "output_extras": [
      {
       "item_id": 41
      },
      {
       "item_id": 80
      },
      {
       "item_id": 126
      },
      {
       "item_id": 144
      }
     ]
    },
    "colab_type": "code",
    "collapsed": false,
    "executionInfo": {
     "elapsed": 199909,
     "status": "ok",
     "timestamp": 1445965877333,
     "user": {
      "color": "#1FA15D",
      "displayName": "Vincent Vanhoucke",
      "isAnonymous": false,
      "isMe": true,
      "permissionId": "05076109866853157986",
      "photoUrl": "//lh6.googleusercontent.com/-cCJa7dTDcgQ/AAAAAAAAAAI/AAAAAAAACgw/r2EZ_8oYer4/s50-c-k-no/photo.jpg",
      "sessionId": "6f6f07b359200c46",
      "userId": "102167687554210253930"
     },
     "user_tz": 420
    },
    "id": "RD9zQCZTEaEm",
    "outputId": "5e868466-2532-4545-ce35-b403cf5d9de6"
   },
   "outputs": [
    {
     "name": "stdout",
     "output_type": "stream",
     "text": [
      "Initialized\n",
      "Average loss at step 0: 3.297579 learning rate: 10.000000\n",
      "Minibatch perplexity: 27.05\n",
      "================================================================================\n",
      "jsutcwro n atzal u j  rx m px d ks qbgnwswqhpdstpysvbips eleupnptapr rqpavfzrvoi\n",
      "cq  mcepmoiccm sg k ghrjlia sxlvmesip eikethbeu ipqa rtsk fdv ntmdxh o fjsnloaof\n",
      "iupx  z ioao xlkcohttoil emdrhehd xnxehngnrgpkaxi yse  ze  zegsiseedwqvdheineoi \n",
      "xpxbaohcvfuckflealp pet  ntrftfdarbpdevme pus asuabrr lc  rre eielme oehiheb  sn\n",
      "mynayjp vrtu awpneocylg tbi gse n nuerkelgbeqlstenhje uqzysooitkla mqd qcl jrtwa\n",
      "================================================================================\n",
      "Validation set perplexity: 20.20\n",
      "Average loss at step 100: 2.592131 learning rate: 10.000000\n",
      "Minibatch perplexity: 10.54\n",
      "Validation set perplexity: 10.12\n",
      "Average loss at step 200: 2.220939 learning rate: 10.000000\n",
      "Minibatch perplexity: 8.35\n",
      "Validation set perplexity: 8.57\n",
      "Average loss at step 300: 2.065133 learning rate: 10.000000\n",
      "Minibatch perplexity: 7.05\n",
      "Validation set perplexity: 7.75\n",
      "Average loss at step 400: 1.971151 learning rate: 10.000000\n",
      "Minibatch perplexity: 7.15\n",
      "Validation set perplexity: 7.07\n",
      "Average loss at step 500: 1.917636 learning rate: 10.000000\n",
      "Minibatch perplexity: 6.66\n",
      "Validation set perplexity: 6.78\n",
      "Average loss at step 600: 1.873452 learning rate: 10.000000\n",
      "Minibatch perplexity: 6.28\n",
      "Validation set perplexity: 6.61\n",
      "Average loss at step 700: 1.825563 learning rate: 10.000000\n",
      "Minibatch perplexity: 6.39\n",
      "Validation set perplexity: 6.29\n",
      "Average loss at step 800: 1.808805 learning rate: 10.000000\n",
      "Minibatch perplexity: 5.88\n",
      "Validation set perplexity: 6.12\n",
      "Average loss at step 900: 1.776784 learning rate: 10.000000\n",
      "Minibatch perplexity: 6.24\n",
      "Validation set perplexity: 5.83\n",
      "Average loss at step 1000: 1.758852 learning rate: 10.000000\n",
      "Minibatch perplexity: 5.79\n",
      "================================================================================\n",
      "jo one fer hovernative to much in this were arount for dow dared the rither to t\n",
      "n of the compurimule calben condergand to its in ectail idendies one nine five o\n",
      "ive for two in at inturant in one five one three five three and two source were \n",
      "fter can be conservation of parside empates of nater the yeeneration subcimiem e\n",
      "rage of one nine four sign nice ridise one nine eight six to in of for lenng nar\n",
      "================================================================================\n",
      "Validation set perplexity: 5.68\n",
      "Average loss at step 1100: 1.741469 learning rate: 10.000000\n",
      "Minibatch perplexity: 5.43\n",
      "Validation set perplexity: 5.44\n",
      "Average loss at step 1200: 1.732192 learning rate: 10.000000\n",
      "Minibatch perplexity: 5.41\n",
      "Validation set perplexity: 5.36\n",
      "Average loss at step 1300: 1.731045 learning rate: 10.000000\n",
      "Minibatch perplexity: 5.68\n",
      "Validation set perplexity: 5.27\n",
      "Average loss at step 1400: 1.709027 learning rate: 10.000000\n",
      "Minibatch perplexity: 5.55\n",
      "Validation set perplexity: 5.09\n",
      "Average loss at step 1500: 1.697061 learning rate: 10.000000\n",
      "Minibatch perplexity: 5.06\n",
      "Validation set perplexity: 5.10\n",
      "Average loss at step 1600: 1.691405 learning rate: 10.000000\n",
      "Minibatch perplexity: 5.41\n",
      "Validation set perplexity: 4.98\n",
      "Average loss at step 1700: 1.669422 learning rate: 10.000000\n",
      "Minibatch perplexity: 5.30\n",
      "Validation set perplexity: 4.96\n",
      "Average loss at step 1800: 1.664150 learning rate: 10.000000\n",
      "Minibatch perplexity: 5.26\n",
      "Validation set perplexity: 4.92\n",
      "Average loss at step 1900: 1.644922 learning rate: 10.000000\n",
      "Minibatch perplexity: 5.05\n",
      "Validation set perplexity: 4.82\n",
      "Average loss at step 2000: 1.644785 learning rate: 10.000000\n",
      "Minibatch perplexity: 5.35\n",
      "================================================================================\n",
      "rical bo afrian but the pyritishi genth and arrieb to only to even norrackelt ap\n",
      "hritulis and yeasing on the menis sand arantise parts ets reign phy read concors\n",
      "al but soquets on the fonyoms as not the t on the sumpers and instanding homerga\n",
      "k darangly d have abod on one nine seven zero ever by yound battrad a standept c\n",
      "rement han c arst nover commineed ase janneve of a rosside was it indiace goened\n",
      "================================================================================\n",
      "Validation set perplexity: 4.85\n",
      "Average loss at step 2100: 1.651479 learning rate: 10.000000\n",
      "Minibatch perplexity: 5.18\n",
      "Validation set perplexity: 4.62\n",
      "Average loss at step 2200: 1.639204 learning rate: 10.000000\n",
      "Minibatch perplexity: 5.17\n",
      "Validation set perplexity: 4.65\n",
      "Average loss at step 2300: 1.619433 learning rate: 10.000000\n",
      "Minibatch perplexity: 5.14\n",
      "Validation set perplexity: 4.63\n",
      "Average loss at step 2400: 1.627528 learning rate: 10.000000\n",
      "Minibatch perplexity: 5.12\n",
      "Validation set perplexity: 4.61\n",
      "Average loss at step 2500: 1.655266 learning rate: 10.000000\n",
      "Minibatch perplexity: 5.34\n",
      "Validation set perplexity: 4.57\n",
      "Average loss at step 2600: 1.630468 learning rate: 10.000000\n",
      "Minibatch perplexity: 5.38\n",
      "Validation set perplexity: 4.60\n",
      "Average loss at step 2700: 1.616268 learning rate: 10.000000\n",
      "Minibatch perplexity: 5.00\n",
      "Validation set perplexity: 4.53\n",
      "Average loss at step 2800: 1.608586 learning rate: 10.000000\n",
      "Minibatch perplexity: 5.07\n",
      "Validation set perplexity: 4.44\n",
      "Average loss at step 2900: 1.612336 learning rate: 10.000000\n",
      "Minibatch perplexity: 5.09\n",
      "Validation set perplexity: 4.43\n",
      "Average loss at step 3000: 1.607769 learning rate: 10.000000\n",
      "Minibatch perplexity: 4.94\n",
      "================================================================================\n",
      "ramed on intenduted two dayor one nine seative are the subs prolbero ay ad legal\n",
      "ventury thop wextes scoubarn pispologican lost trade of member one nine nine fou\n",
      "y herigguri rom sear and proto or shused many and intelation deton is becomes fo\n",
      "ques by see atstest gumes musiching willion subeb insteadratiogh and social is t\n",
      "y in propert fundralishan creatant theer but now lols pogial intist and other fl\n",
      "================================================================================\n",
      "Validation set perplexity: 4.44\n",
      "Average loss at step 3100: 1.612994 learning rate: 10.000000\n",
      "Minibatch perplexity: 5.17\n",
      "Validation set perplexity: 4.32\n",
      "Average loss at step 3200: 1.608517 learning rate: 10.000000\n",
      "Minibatch perplexity: 4.98\n",
      "Validation set perplexity: 4.44\n",
      "Average loss at step 3300: 1.606580 learning rate: 10.000000\n",
      "Minibatch perplexity: 5.23\n",
      "Validation set perplexity: 4.33\n",
      "Average loss at step 3400: 1.615199 learning rate: 10.000000\n",
      "Minibatch perplexity: 5.38\n",
      "Validation set perplexity: 4.27\n",
      "Average loss at step 3500: 1.607594 learning rate: 10.000000\n",
      "Minibatch perplexity: 5.15\n",
      "Validation set perplexity: 4.41\n",
      "Average loss at step 3600: 1.623144 learning rate: 10.000000\n",
      "Minibatch perplexity: 4.64\n",
      "Validation set perplexity: 4.30\n",
      "Average loss at step 3700: 1.622406 learning rate: 10.000000\n",
      "Minibatch perplexity: 5.11\n",
      "Validation set perplexity: 4.26\n",
      "Average loss at step 3800: 1.613342 learning rate: 10.000000\n",
      "Minibatch perplexity: 5.33\n",
      "Validation set perplexity: 4.37\n",
      "Average loss at step 3900: 1.598275 learning rate: 10.000000\n",
      "Minibatch perplexity: 4.97\n",
      "Validation set perplexity: 4.27\n",
      "Average loss at step 4000: 1.600879 learning rate: 10.000000\n",
      "Minibatch perplexity: 4.78\n",
      "================================================================================\n",
      "fective and dunents in a classic the yearth been indinent repucinated interapted\n",
      "d as b person europeanists whom juba hubelbieds the edepted in cuality of maydem\n",
      "zard the mon subfrizks vikitives last with the emphess growth cane and its ecoot\n",
      "l hightork four the obcents for demantification rouking the poters to lick s bel\n",
      "rick in theoky upuchiltions recorts have by and orcoults wincehrado edical of th\n",
      "================================================================================\n",
      "Validation set perplexity: 4.25\n",
      "Average loss at step 4100: 1.597856 learning rate: 10.000000\n",
      "Minibatch perplexity: 4.83\n",
      "Validation set perplexity: 4.32\n",
      "Average loss at step 4200: 1.585611 learning rate: 10.000000\n",
      "Minibatch perplexity: 5.06\n",
      "Validation set perplexity: 4.24\n",
      "Average loss at step 4300: 1.582583 learning rate: 10.000000\n",
      "Minibatch perplexity: 4.86\n",
      "Validation set perplexity: 4.21\n",
      "Average loss at step 4400: 1.572899 learning rate: 10.000000\n",
      "Minibatch perplexity: 4.78\n",
      "Validation set perplexity: 4.21\n",
      "Average loss at step 4500: 1.580723 learning rate: 10.000000\n",
      "Minibatch perplexity: 4.94\n",
      "Validation set perplexity: 4.28\n",
      "Average loss at step 4600: 1.569038 learning rate: 10.000000\n",
      "Minibatch perplexity: 4.91\n",
      "Validation set perplexity: 4.16\n",
      "Average loss at step 4700: 1.577655 learning rate: 10.000000\n",
      "Minibatch perplexity: 5.03\n",
      "Validation set perplexity: 4.16\n",
      "Average loss at step 4800: 1.576550 learning rate: 10.000000\n",
      "Minibatch perplexity: 4.62\n",
      "Validation set perplexity: 4.13\n",
      "Average loss at step 4900: 1.576642 learning rate: 10.000000\n",
      "Minibatch perplexity: 4.96\n",
      "Validation set perplexity: 4.14\n",
      "Average loss at step 5000: 1.579731 learning rate: 1.000000\n",
      "Minibatch perplexity: 4.65\n",
      "================================================================================\n",
      "s the viroum reparective s rlogham and two zerylea or post brangex lettercrited \n",
      "ja greeth day populaties dun island of fasti wold and two whyet the turries is e\n",
      "and both there c six one nine eight six seven eight gamestlar problem ksi carric\n",
      "bront crisant for one eight three nine zero selam shorte mencative is googs spac\n",
      "t invelvative specially scage sefteds diansuism a call the pound of can contcome\n",
      "================================================================================\n",
      "Validation set perplexity: 4.21\n",
      "Average loss at step 5100: 1.571221 learning rate: 1.000000\n",
      "Minibatch perplexity: 4.49\n",
      "Validation set perplexity: 4.12\n",
      "Average loss at step 5200: 1.548849 learning rate: 1.000000\n",
      "Minibatch perplexity: 4.45\n",
      "Validation set perplexity: 4.09\n",
      "Average loss at step 5300: 1.543523 learning rate: 1.000000\n",
      "Minibatch perplexity: 4.72\n",
      "Validation set perplexity: 4.08\n",
      "Average loss at step 5400: 1.557981 learning rate: 1.000000\n",
      "Minibatch perplexity: 4.93\n",
      "Validation set perplexity: 4.06\n",
      "Average loss at step 5500: 1.541594 learning rate: 1.000000\n",
      "Minibatch perplexity: 4.74\n",
      "Validation set perplexity: 4.04\n",
      "Average loss at step 5600: 1.559112 learning rate: 1.000000\n",
      "Minibatch perplexity: 4.58\n",
      "Validation set perplexity: 4.06\n",
      "Average loss at step 5700: 1.545669 learning rate: 1.000000\n",
      "Minibatch perplexity: 4.72\n",
      "Validation set perplexity: 4.04\n",
      "Average loss at step 5800: 1.553410 learning rate: 1.000000\n",
      "Minibatch perplexity: 4.62\n",
      "Validation set perplexity: 4.03\n",
      "Average loss at step 5900: 1.560376 learning rate: 1.000000\n",
      "Minibatch perplexity: 4.85\n",
      "Validation set perplexity: 4.04\n",
      "Average loss at step 6000: 1.545729 learning rate: 1.000000\n",
      "Minibatch perplexity: 4.83\n",
      "================================================================================\n",
      "paros open servery can assamicans aday desetumed mal passist the mide of the con\n",
      "jogement and letting and the cities probrart external land who footse kully on o\n",
      "ky in s caganoleter aboxizhing chresters after not y on my chileate partic rispa\n",
      "tion of in the neneral mine is it some site of daasion crust of fensting was nat\n",
      "anced hebrating and the greempa known divised for excaper occurs the sky were nr\n",
      "================================================================================\n",
      "Validation set perplexity: 4.03\n",
      "Average loss at step 6100: 1.550389 learning rate: 1.000000\n",
      "Minibatch perplexity: 5.04\n",
      "Validation set perplexity: 4.02\n",
      "Average loss at step 6200: 1.560112 learning rate: 1.000000\n",
      "Minibatch perplexity: 4.73\n",
      "Validation set perplexity: 4.05\n",
      "Average loss at step 6300: 1.559301 learning rate: 1.000000\n",
      "Minibatch perplexity: 4.99\n",
      "Validation set perplexity: 4.03\n",
      "Average loss at step 6400: 1.559570 learning rate: 1.000000\n",
      "Minibatch perplexity: 4.43\n",
      "Validation set perplexity: 4.03\n",
      "Average loss at step 6500: 1.564142 learning rate: 1.000000\n",
      "Minibatch perplexity: 4.90\n",
      "Validation set perplexity: 4.01\n",
      "Average loss at step 6600: 1.576898 learning rate: 1.000000\n",
      "Minibatch perplexity: 4.63\n",
      "Validation set perplexity: 4.00\n",
      "Average loss at step 6700: 1.557045 learning rate: 1.000000\n",
      "Minibatch perplexity: 4.62\n",
      "Validation set perplexity: 4.01\n",
      "Average loss at step 6800: 1.556739 learning rate: 1.000000\n",
      "Minibatch perplexity: 4.97\n",
      "Validation set perplexity: 4.00\n",
      "Average loss at step 6900: 1.558986 learning rate: 1.000000\n",
      "Minibatch perplexity: 4.73\n",
      "Validation set perplexity: 4.01\n",
      "Average loss at step 7000: 1.542797 learning rate: 1.000000\n",
      "Minibatch perplexity: 4.55\n",
      "================================================================================\n",
      "y while the ng of many longer enveros larges meanines kik the black cornet tomel\n",
      "nises it early astradian and and though led those which written it is back or co\n",
      "lus european brithmre examplay recedund france some buse schools two in angenna \n",
      "c its departed and onotests arried the civile of noveler includities inficated h\n",
      "zateds who home insuber while eacy into the follows when a custs turning within \n",
      "================================================================================\n",
      "Validation set perplexity: 4.01\n",
      "Average loss at step 7100: 1.540710 learning rate: 1.000000\n",
      "Minibatch perplexity: 4.79\n",
      "Validation set perplexity: 3.98\n",
      "Average loss at step 7200: 1.555728 learning rate: 1.000000\n",
      "Minibatch perplexity: 4.91\n",
      "Validation set perplexity: 3.99\n",
      "Average loss at step 7300: 1.561085 learning rate: 1.000000\n",
      "Minibatch perplexity: 4.52\n",
      "Validation set perplexity: 4.02\n",
      "Average loss at step 7400: 1.567295 learning rate: 1.000000\n",
      "Minibatch perplexity: 4.87\n",
      "Validation set perplexity: 4.02\n",
      "Average loss at step 7500: 1.580395 learning rate: 1.000000\n",
      "Minibatch perplexity: 4.85\n",
      "Validation set perplexity: 4.01\n",
      "Average loss at step 7600: 1.559701 learning rate: 1.000000\n",
      "Minibatch perplexity: 5.10\n",
      "Validation set perplexity: 4.02\n",
      "Average loss at step 7700: 1.566166 learning rate: 1.000000\n",
      "Minibatch perplexity: 4.81\n",
      "Validation set perplexity: 4.03\n",
      "Average loss at step 7800: 1.558530 learning rate: 1.000000\n",
      "Minibatch perplexity: 5.02\n",
      "Validation set perplexity: 4.03\n",
      "Average loss at step 7900: 1.570531 learning rate: 1.000000\n",
      "Minibatch perplexity: 4.56\n",
      "Validation set perplexity: 4.01\n",
      "Average loss at step 8000: 1.590112 learning rate: 1.000000\n",
      "Minibatch perplexity: 4.96\n",
      "================================================================================\n",
      "prismergand the contin roabies of this are from ark mechand banyllifle puacy web\n",
      "ed in one nine seven one fwell stript for dates to solutional european of on fro\n",
      "zers had bhint s year for melten fe is adil tuma biro six countation and interra\n",
      "ver shikfari such forcentions or as also usuals forceft indled tune is restance \n",
      "x numbers moantat of one each single kad diadays constituting under exeroup shop\n",
      "================================================================================\n",
      "Validation set perplexity: 4.02\n",
      "Average loss at step 8100: 1.575093 learning rate: 1.000000\n",
      "Minibatch perplexity: 4.39\n",
      "Validation set perplexity: 4.05\n",
      "Average loss at step 8200: 1.560444 learning rate: 1.000000\n",
      "Minibatch perplexity: 4.91\n",
      "Validation set perplexity: 4.06\n",
      "Average loss at step 8300: 1.558948 learning rate: 1.000000\n",
      "Minibatch perplexity: 4.55\n",
      "Validation set perplexity: 4.05\n",
      "Average loss at step 8400: 1.555189 learning rate: 1.000000\n",
      "Minibatch perplexity: 4.48\n",
      "Validation set perplexity: 4.03\n",
      "Average loss at step 8500: 1.560039 learning rate: 1.000000\n",
      "Minibatch perplexity: 5.00\n",
      "Validation set perplexity: 3.99\n",
      "Average loss at step 8600: 1.545463 learning rate: 1.000000\n",
      "Minibatch perplexity: 4.90\n",
      "Validation set perplexity: 3.99\n",
      "Average loss at step 8700: 1.553568 learning rate: 1.000000\n",
      "Minibatch perplexity: 4.47\n",
      "Validation set perplexity: 4.02\n",
      "Average loss at step 8800: 1.551458 learning rate: 1.000000\n",
      "Minibatch perplexity: 4.95\n",
      "Validation set perplexity: 4.00\n",
      "Average loss at step 8900: 1.544704 learning rate: 1.000000\n",
      "Minibatch perplexity: 4.51\n",
      "Validation set perplexity: 4.01\n",
      "Average loss at step 9000: 1.541419 learning rate: 1.000000\n",
      "Minibatch perplexity: 4.76\n",
      "================================================================================\n",
      "k b esonom but paralled u ngan bon nates railing roos under stronged the sair ha\n",
      "k factions when recent televal giunese the soungel note pruprieed the entrum isq\n",
      "es stared on f latter are assumed on spockey geaning secret afericar its a norda\n",
      "o positions joy in exterinology one nine chanain run donetearia to barga gan bea\n",
      "varinally act alexbests the agrietes the hames and more companged theor south it\n",
      "================================================================================\n",
      "Validation set perplexity: 4.00\n"
     ]
    }
   ],
   "source": [
    "num_steps = 9001\n",
    "summary_frequency = 100\n",
    "\n",
    "with tf.Session(graph=graph) as session:\n",
    "  tf.initialize_all_variables().run()\n",
    "  print('Initialized')\n",
    "  mean_loss = 0\n",
    "  for step in range(num_steps):\n",
    "    batches = train_batches.next()\n",
    "    feed_dict = dict()\n",
    "    for i in range(num_unrollings + 1):\n",
    "      feed_dict[train_data[i]] = batches[i]\n",
    "    _, l, predictions, lr = session.run(\n",
    "      [optimizer, loss, train_prediction, learning_rate], feed_dict=feed_dict)\n",
    "    mean_loss += l\n",
    "    if step % summary_frequency == 0:\n",
    "      if step > 0:\n",
    "        mean_loss = mean_loss / summary_frequency\n",
    "      # The mean loss is an estimate of the loss over the last few batches.\n",
    "      print(\n",
    "        'Average loss at step %d: %f learning rate: %f' % (step, mean_loss, lr))\n",
    "      mean_loss = 0\n",
    "      labels = np.concatenate(list(batches)[1:])\n",
    "      print('Minibatch perplexity: %.2f' % float(np.exp(logprob(predictions, labels))))\n",
    "    \n",
    "      #print (predictions.shape, predictions)\n",
    "      #print (labels.shape, labels)\n",
    "      if step % (summary_frequency * 10) == 0:\n",
    "        # Generate some samples.\n",
    "        print('=' * 80)\n",
    "        for _ in range(5):\n",
    "          feed = sample(random_distribution())\n",
    "          sentence = characters(feed)[0]\n",
    "          reset_sample_state.run()\n",
    "          for _ in range(79):\n",
    "            prediction = sample_prediction.eval({sample_input: feed})\n",
    "            feed = sample(prediction)\n",
    "            sentence += characters(feed)[0]\n",
    "          print(sentence)\n",
    "        print('=' * 80)\n",
    "      # Measure validation set perplexity.\n",
    "      reset_sample_state.run()\n",
    "      valid_logprob = 0\n",
    "      for _ in range(valid_size):\n",
    "        b = valid_batches.next()\n",
    "        predictions = sample_prediction.eval({sample_input: b[0]})\n",
    "        valid_logprob = valid_logprob + logprob(predictions, b[1])\n",
    "      print('Validation set perplexity: %.2f' % float(np.exp(\n",
    "        valid_logprob / valid_size)))"
   ]
  },
  {
   "cell_type": "code",
   "execution_count": 30,
   "metadata": {
    "collapsed": false
   },
   "outputs": [],
   "source": [
    "import cPickle\n",
    "import sys\n",
    "\n",
    "def dump_obj(obj, fname):\n",
    "    try:\n",
    "        f = file(fname, 'wb')\n",
    "        cPickle.dump(obj, f, protocol=cPickle.HIGHEST_PROTOCOL)\n",
    "        f.close()\n",
    "        return 1\n",
    "    except Exception as e:\n",
    "        print(e)\n",
    "        return 0\n",
    "\n",
    "def load_obj(fname):\n",
    "    try:\n",
    "        f = file(fname, 'rb')\n",
    "        loaded_obj = cPickle.load(f)\n",
    "        f.close()\n",
    "        return loaded_obj\n",
    "    except Exception as e:\n",
    "        print(e)\n",
    "        return 0"
   ]
  },
  {
   "cell_type": "markdown",
   "metadata": {
    "colab_type": "text",
    "id": "pl4vtmFfa5nn"
   },
   "source": [
    "---\n",
    "Problem 1\n",
    "---------\n",
    "\n",
    "You might have noticed that the definition of the LSTM cell involves 4 matrix multiplications with the input, and 4 matrix multiplications with the output. Simplify the expression by using a single matrix multiply for each, and variables that are 4 times larger.\n",
    "\n",
    "---"
   ]
  },
  {
   "cell_type": "code",
   "execution_count": 13,
   "metadata": {
    "collapsed": true
   },
   "outputs": [],
   "source": [
    "def my_lstm_cell(i, o, state):\n",
    "\n",
    "    ic = tf.matmul(i, array_ops.concat(concat_dim=1, values=[ix,fx,cx,ox]))\n",
    "    oc = tf.matmul(o, array_ops.concat(concat_dim=1, values=[im,fm,cm,om]))\n",
    "    \n",
    "    iix, ifx, icx, iox = array_ops.split(1, 4, ic)\n",
    "    oim, ofm, ocm, oom = array_ops.split(1, 4, oc)\n",
    "    \n",
    "    input_gate = tf.sigmoid(iix + oim + ib)\n",
    "    forget_gate = tf.sigmoid(ifx + ofm + fb)\n",
    "    output_gate = tf.sigmoid(iox + oom + ob)\n",
    "    \n",
    "    update = icx + ocm + cb\n",
    "    state = forget_gate * state + input_gate * tf.tanh(update)\n",
    "    \n",
    "    return output_gate * tf.tanh(state), state"
   ]
  },
  {
   "cell_type": "code",
   "execution_count": null,
   "metadata": {
    "collapsed": true
   },
   "outputs": [],
   "source": []
  },
  {
   "cell_type": "markdown",
   "metadata": {
    "colab_type": "text",
    "id": "4eErTCTybtph"
   },
   "source": [
    "---\n",
    "Problem 2\n",
    "---------\n",
    "\n",
    "We want to train a LSTM over bigrams, that is pairs of consecutive characters like 'ab' instead of single characters like 'a'. Since the number of possible bigrams is large, feeding them directly to the LSTM using 1-hot encodings will lead to a very sparse representation that is very wasteful computationally.\n",
    "\n",
    "a- Introduce an embedding lookup on the inputs, and feed the embeddings to the LSTM cell instead of the inputs themselves.\n",
    "\n",
    "b- Write a bigram-based LSTM, modeled on the character LSTM above.\n",
    "\n",
    "c- Introduce Dropout. For best practices on how to use Dropout in LSTMs, refer to this [article](http://arxiv.org/abs/1409.2329).\n",
    "\n",
    "---"
   ]
  },
  {
   "cell_type": "code",
   "execution_count": 14,
   "metadata": {
    "collapsed": false
   },
   "outputs": [
    {
     "name": "stderr",
     "output_type": "stream",
     "text": [
      "/usr/local/lib/python2.7/dist-packages/matplotlib/font_manager.py:273: UserWarning: Matplotlib is building the font cache using fc-list. This may take a moment.\n",
      "  warnings.warn('Matplotlib is building the font cache using fc-list. This may take a moment.')\n"
     ]
    }
   ],
   "source": [
    "%matplotlib inline\n",
    "\n",
    "from sklearn.metrics.pairwise import cosine_similarity\n",
    "from itertools import compress\n",
    "from IPython import display\n",
    "from nltk import bigrams\n",
    "\n",
    "import matplotlib.pyplot as plt\n",
    "import collections\n",
    "import math\n",
    "\n",
    "def bigram(text, overlap=False):\n",
    "    \"\"\"Convert a string of text to a list of bigrams\"\"\"\n",
    "    bg = bigrams(text)\n",
    "    if overlap: return [''.join(t) for t in bg]\n",
    "    else: return [''.join(t) for i, t in enumerate(bg) if i%2==0]"
   ]
  },
  {
   "cell_type": "code",
   "execution_count": 15,
   "metadata": {
    "collapsed": false
   },
   "outputs": [
    {
     "name": "stdout",
     "output_type": "stream",
     "text": [
      "50000000\n"
     ]
    }
   ],
   "source": [
    "bg = bigram(text)\n",
    "print(len(bg))"
   ]
  },
  {
   "cell_type": "code",
   "execution_count": 16,
   "metadata": {
    "collapsed": false
   },
   "outputs": [
    {
     "data": {
      "text/plain": [
       "[' a', 'na', 'rc', 'hi', 'sm', ' o', 'ri', 'gi', 'na', 'te', 'd ', 'as', ' a']"
      ]
     },
     "execution_count": 16,
     "metadata": {},
     "output_type": "execute_result"
    }
   ],
   "source": [
    "bg[:13]"
   ]
  },
  {
   "cell_type": "code",
   "execution_count": 17,
   "metadata": {
    "collapsed": false
   },
   "outputs": [
    {
     "data": {
      "text/plain": [
       "' anarchism originated as a term of abuse first used against '"
      ]
     },
     "execution_count": 17,
     "metadata": {},
     "output_type": "execute_result"
    }
   ],
   "source": [
    "''.join(bg[:30])"
   ]
  },
  {
   "cell_type": "code",
   "execution_count": null,
   "metadata": {
    "collapsed": true
   },
   "outputs": [],
   "source": []
  },
  {
   "cell_type": "code",
   "execution_count": 18,
   "metadata": {
    "collapsed": false
   },
   "outputs": [
    {
     "name": "stdout",
     "output_type": "stream",
     "text": [
      "Dictionary size: 729\n",
      "Most common words (+UNK) [['UNK', 0], ('e ', 1843425), (' t', 1224131), ('s ', 1111188), ('th', 990343)]\n",
      "Sample data [5, 96, 220, 75, 267, 10, 56, 196, 96, 29] ===  anarchism originate\n"
     ]
    }
   ],
   "source": [
    "voc_size = 9001\n",
    "\n",
    "def build_dataset(words):\n",
    "  count = [['UNK', -1]]\n",
    "  count.extend(collections.Counter(words).most_common(voc_size - 1))\n",
    "  dictionary = dict()\n",
    "  for word, _ in count:\n",
    "    dictionary[word] = len(dictionary)\n",
    "  data = list()\n",
    "  unk_count = 0\n",
    "  for word in words:\n",
    "    if word in dictionary:\n",
    "      index = dictionary[word]\n",
    "    else:\n",
    "      index = 0  # dictionary['UNK']\n",
    "      unk_count = unk_count + 1\n",
    "    data.append(index)\n",
    "  count[0][1] = unk_count\n",
    "  reverse_dictionary = dict(zip(dictionary.values(), dictionary.keys())) \n",
    "  return data, count, dictionary, reverse_dictionary\n",
    "\n",
    "datum, count, dictionary, reverse_dictionary = build_dataset(bg)\n",
    "voc_size = len(dictionary)\n",
    "\n",
    "vocabulary_size = voc_size\n",
    "\n",
    "print('Dictionary size:', voc_size)\n",
    "print('Most common words (+UNK)', count[:5])\n",
    "print('Sample data', datum[:10], '===', ''.join([reverse_dictionary[t] for t in datum[:10]]))\n",
    "\n",
    "data_index = 0"
   ]
  },
  {
   "cell_type": "code",
   "execution_count": null,
   "metadata": {
    "collapsed": false
   },
   "outputs": [],
   "source": []
  },
  {
   "cell_type": "code",
   "execution_count": 19,
   "metadata": {
    "collapsed": false
   },
   "outputs": [],
   "source": [
    "def generate_batch_skipgram(dat, batch_size, num_skips, skip_window):\n",
    "    global data_index\n",
    "    assert batch_size % num_skips == 0\n",
    "    assert num_skips <= 2 * skip_window\n",
    "    batch = np.ndarray(shape=(batch_size), dtype=np.int32)\n",
    "    labels = np.ndarray(shape=(batch_size, 1), dtype=np.int32)\n",
    "    span = 2 * skip_window + 1 # [ skip_window target skip_window ]\n",
    "    buffer = collections.deque(maxlen=span) # used for collecting data[data_index] in the sliding window\n",
    "    for _ in range(span):\n",
    "            buffer.append(dat[data_index])\n",
    "            data_index = (data_index + 1) % len(dat)\n",
    "    for i in range(batch_size // num_skips):\n",
    "            target = skip_window  # target label at the center of the buffer\n",
    "            targets_to_avoid = [ skip_window ]\n",
    "            for j in range(num_skips):\n",
    "                while target in targets_to_avoid:\n",
    "                    target = random.randint(0, span - 1)\n",
    "                targets_to_avoid.append(target)\n",
    "                batch[i * num_skips + j] = buffer[skip_window]\n",
    "                labels[i * num_skips + j, 0] = buffer[target]\n",
    "            buffer.append(dat[data_index])\n",
    "            data_index = (data_index + 1) % len(dat)\n",
    "    return batch, labels"
   ]
  },
  {
   "cell_type": "code",
   "execution_count": 20,
   "metadata": {
    "collapsed": false
   },
   "outputs": [],
   "source": [
    "architecture = 'SKIP'\n",
    "\n",
    "batch_size = 512\n",
    "embedding_size = 64 # Dimension of the embedding vector.\n",
    "skip_window = 4 # How many words to consider left and right.\n",
    "num_skips = 2 # How many times to reuse an input to generate a label.\n",
    "\n",
    "valid_size = 16 # Random set of words to evaluate similarity on.\n",
    "valid_window = 100 # Only pick dev samples in the head of the distribution.\n",
    "valid_examples = np.array(random.sample(range(valid_window), valid_size))\n",
    "num_sampled = 64 # Number of negative examples to sample.\n",
    "\n",
    "if architecture == 'CBOW':\n",
    "    input_shape = [batch_size, num_skips]\n",
    "    generate_batch = generate_batch_cbow\n",
    "elif architecture == 'SKIP':\n",
    "    input_shape = [batch_size]\n",
    "    generate_batch = generate_batch_skipgram\n",
    "\n",
    "\n",
    "graph = tf.Graph()\n",
    "\n",
    "with graph.as_default(), tf.device('/cpu:0'):\n",
    "\n",
    "  # Input data.\n",
    "  train_dataset = tf.placeholder(tf.int32, shape=input_shape)\n",
    "  train_labels = tf.placeholder(tf.int32, shape=[batch_size, 1])\n",
    "  valid_dataset = tf.constant(valid_examples, dtype=tf.int32)\n",
    "  \n",
    "  # Variables.\n",
    "  embeddings = tf.Variable(\n",
    "    tf.random_uniform([voc_size, embedding_size], -1.0, 1.0))\n",
    "  softmax_weights = tf.Variable(\n",
    "    tf.truncated_normal([voc_size, embedding_size],\n",
    "                         stddev=1.0 / math.sqrt(embedding_size)))\n",
    "  softmax_biases = tf.Variable(tf.zeros([voc_size]))\n",
    "  \n",
    "  if architecture == 'SKIP':\n",
    "    embed = tf.nn.embedding_lookup(embeddings, train_dataset)\n",
    "    \n",
    "  elif architecture == 'CBOW':\n",
    "    emb = tf.zeros([batch_size, embedding_size])\n",
    "    for j in range(num_skips):\n",
    "        emb += tf.nn.embedding_lookup(embeddings, train_dataset[:, j])\n",
    "    embed = emb\n",
    "\n",
    "  loss = tf.reduce_mean(tf.nn.sampled_softmax_loss(softmax_weights, softmax_biases, embed,\n",
    "                                                   train_labels, num_sampled, voc_size))  \n",
    "\n",
    "  optimizer = tf.train.AdagradOptimizer(1.0).minimize(loss)\n",
    "  \n",
    "  norm = tf.sqrt(tf.reduce_sum(tf.square(embeddings), 1, keep_dims=True))\n",
    "  normalized_embeddings = embeddings / norm\n",
    "  valid_embeddings = tf.nn.embedding_lookup(\n",
    "    normalized_embeddings, valid_dataset)\n",
    "  similarity = tf.matmul(valid_embeddings, tf.transpose(normalized_embeddings))"
   ]
  },
  {
   "cell_type": "code",
   "execution_count": 21,
   "metadata": {
    "collapsed": false
   },
   "outputs": [
    {
     "name": "stdout",
     "output_type": "stream",
     "text": [
      "Average loss at step 20000: 3.836166\n"
     ]
    },
    {
     "data": {
      "image/png": "[encoded data removed]",
      "text/plain": [
       "<matplotlib.figure.Figure at 0x7f3769c47550>"
      ]
     },
     "metadata": {},
     "output_type": "display_data"
    },
    {
     "name": "stdout",
     "output_type": "stream",
     "text": [
      "Nearest to ea: oi, oo, es, dg, oq, af, cp, vf,\n",
      "Nearest to an: ul, by, un, xm, ws, iw, dd, te,\n",
      "Nearest to l : vp, sm, et, dj, uv, bd, nn, fh,\n",
      "Nearest to  c: ec,  p, gn,  s, fv,  g, cs, ex,\n",
      "Nearest to wo: qk, qx, bv, he, zc, fx, fw,  z,\n",
      "Nearest to it: vu, iu, bh, uf, hi, rm, db, z ,\n",
      "Nearest to ns: gy, sn, ll, fd, is, rq, tr, ny,\n",
      "Nearest to si: vt, fl, iu, qd, b , bm, lt, yl,\n",
      "Nearest to fi: ze, mz, ff, yl, nv, af, xd, ui,\n",
      "Nearest to ma: ia, do, kp, pa, rs, sw, yj, np,\n",
      "Nearest to h : sq, w , xs, zv, tn, yx, qn, ps,\n",
      "Nearest to t : fv, pv, vk, ts, xq, qv, s ,  x,\n",
      "Nearest to ha: qz, nx, ww, uk, bn, hi, hr, cb,\n",
      "Nearest to s : jx, a , g , wz, bs, vq, tz, t ,\n",
      "Nearest to ta: la, ra, rp, sl, zv, rc, ry, bt,\n",
      "Nearest to th: a , pv, nl, bw, mb, nz, wh, ms,\n"
     ]
    }
   ],
   "source": [
    "num_steps = 20001\n",
    "lh = []\n",
    "\n",
    "with tf.Session(graph=graph) as session:\n",
    "  tf.initialize_all_variables().run()\n",
    "  print('Initialized')\n",
    "  average_loss = 0\n",
    "  for step in range(num_steps):\n",
    "        \n",
    "    batch_data, batch_labels = generate_batch(datum, batch_size, num_skips, skip_window)\n",
    "    feed_dict = {train_dataset : batch_data, train_labels : batch_labels}\n",
    "    \n",
    "    _, l = session.run([optimizer, loss], feed_dict=feed_dict)\n",
    "    \n",
    "    average_loss += l\n",
    "    \n",
    "    if step % 2000 == 0:\n",
    "      display.clear_output(wait=True)\n",
    "      if step > 0:\n",
    "        average_loss = average_loss / 2000\n",
    "      # The average loss is an estimate of the loss over the last 2000 batches.\n",
    "      print('Average loss at step %d: %f' % (step, average_loss))\n",
    "      lh.append(average_loss)\n",
    "      average_loss = 0\n",
    "            \n",
    "      plt.figure(figsize=(14, 10))\n",
    "\n",
    "      plt.title(\"Training loss, step {}/{}\".format(step, num_steps))\n",
    "      plt.xlabel(\"#step\")\n",
    "      plt.ylabel(\"loss\")\n",
    "      plt.plot(lh, 'b')\n",
    "      plt.show()\n",
    "      \n",
    "\n",
    "    if step % 10000 == 0:\n",
    "      sim = similarity.eval()\n",
    "      for i in range(valid_size):\n",
    "        valid_word = reverse_dictionary[valid_examples[i]]\n",
    "        top_k = 8 # number of nearest neighbors\n",
    "        nearest = (-sim[i, :]).argsort()[1:top_k+1]\n",
    "        log = 'Nearest to %s:' % valid_word\n",
    "        for k in range(top_k):\n",
    "          close_word = reverse_dictionary[nearest[k]]\n",
    "          log = '%s %s,' % (log, close_word)\n",
    "        print(log)\n",
    "        \n",
    "  final_embeddings = normalized_embeddings.eval()"
   ]
  },
  {
   "cell_type": "code",
   "execution_count": 31,
   "metadata": {
    "collapsed": false
   },
   "outputs": [
    {
     "data": {
      "text/plain": [
       "1"
      ]
     },
     "execution_count": 31,
     "metadata": {},
     "output_type": "execute_result"
    }
   ],
   "source": [
    "dump_obj(BI_EMB, 'embeddings.pkl')"
   ]
  },
  {
   "cell_type": "code",
   "execution_count": 32,
   "metadata": {
    "collapsed": false
   },
   "outputs": [],
   "source": [
    "obj = load_obj('embeddings.pkl')"
   ]
  },
  {
   "cell_type": "code",
   "execution_count": null,
   "metadata": {
    "collapsed": false
   },
   "outputs": [],
   "source": []
  },
  {
   "cell_type": "code",
   "execution_count": 24,
   "metadata": {
    "collapsed": false
   },
   "outputs": [],
   "source": [
    "BI_EMB = final_embeddings"
   ]
  },
  {
   "cell_type": "code",
   "execution_count": 25,
   "metadata": {
    "collapsed": true
   },
   "outputs": [],
   "source": [
    "VALID_SIZE = 1000\n",
    "\n",
    "# model parameters\n",
    "BATCH_SIZE = 256\n",
    "NUM_UNROLLINGS = 10\n",
    "NUM_NODES = 128\n",
    "SUMMARY_FREQUENCY = 100\n",
    "EMBEDDING_DIMENSION = 64\n",
    "DROPOUT_PROBABILITY = 0.5\n",
    "\n",
    "CHARACTER_SIZE = (len(string.ascii_lowercase) + 1)  # [a-z] + ' '\n",
    "VOCABULARY_SIZE = CHARACTER_SIZE ** 2  # [a-z] + ' ' (bigram)\n",
    "\n",
    "FIRST_LETTER = ord(string.ascii_lowercase[0])"
   ]
  },
  {
   "cell_type": "code",
   "execution_count": 26,
   "metadata": {
    "collapsed": false
   },
   "outputs": [],
   "source": [
    "def char2id(char):\n",
    "    if char in string.ascii_lowercase:\n",
    "        return ord(char) - FIRST_LETTER + 1\n",
    "    elif char == ' ':\n",
    "        return 0\n",
    "    else:\n",
    "        print('Unexpected character: %s' % char)\n",
    "        return 0\n",
    "\n",
    "\n",
    "def bigram2id(bigram):\n",
    "    \"\"\"easily extensible to ngram2id actually\"\"\"\n",
    "    assert len(bigram) == 2, 'Input needs to be 2 characters.'\n",
    "    char_id = 0\n",
    "\n",
    "    for digit, char in enumerate(bigram):\n",
    "        char_id += char2id(char) * (CHARACTER_SIZE ** digit)\n",
    "\n",
    "    return char_id\n",
    "\n",
    "\n",
    "def id2char(char_id):\n",
    "    if char_id > 0:\n",
    "        return chr(char_id + FIRST_LETTER - 1)\n",
    "    else:\n",
    "        return ' '\n",
    "\n",
    "def id2bigram(char_id):\n",
    "    first_digit_id = char_id % CHARACTER_SIZE\n",
    "    second_digit_id = char_id // CHARACTER_SIZE\n",
    "\n",
    "    return id2char(first_digit_id) + id2char(second_digit_id)\n",
    "\n",
    "\n",
    "class BatchGenerator(object):\n",
    "    def __init__(self, text, batch_size, num_unrollings):\n",
    "        self._text = text\n",
    "        self._text_size = len(text)\n",
    "        self._batch_size = batch_size\n",
    "        self._num_unrollings = num_unrollings\n",
    "        segment = self._text_size // batch_size\n",
    "        self._cursor = [offset * segment for offset in range(batch_size)]\n",
    "        self._last_batch = self._next_batch()\n",
    "\n",
    "    def _next_batch(self):\n",
    "        \"\"\"Generate a single batch from the current cursor position in the data.\"\"\"\n",
    "        batch = np.zeros(shape=(self._batch_size, VOCABULARY_SIZE), dtype=np.float)\n",
    "\n",
    "        for batch_id in range(self._batch_size):\n",
    "            batch[batch_id, bigram2id(self._text[self._cursor[batch_id]: self._cursor[batch_id] + 2])] = 1.0\n",
    "            self._cursor[batch_id] = (self._cursor[batch_id] + 2) % (self._text_size - 1)\n",
    "\n",
    "        return batch\n",
    "\n",
    "    def next(self):\n",
    "        \"\"\"Generate the next array of batches from the data. The array consists of\n",
    "        the last batch of the previous array, followed by num_unrollings new ones.\n",
    "        \"\"\"\n",
    "        batches = [self._last_batch]\n",
    "\n",
    "        for step in range(self._num_unrollings):\n",
    "            batches.append(self._next_batch())\n",
    "\n",
    "        self._last_batch = batches[-1]\n",
    "\n",
    "        return batches\n",
    "\n",
    "\n",
    "def characters(probabilities):\n",
    "    \"\"\"Turn a 1-hot encoding or a probability distribution over the possible\n",
    "    characters back into its (most likely) character representation.\"\"\"\n",
    "    return [id2char(char_id) for char_id in np.argmax(probabilities, 1)]\n",
    "\n",
    "\n",
    "def bigrams(probabilities):\n",
    "    \"\"\"Turn a 1-hot encoding or a probability distribution over the possible\n",
    "    bigrams back into its (most likely) bigram representation.\"\"\"\n",
    "    return [id2bigram(bigram_id) for bigram_id in np.argmax(probabilities, 1)]\n",
    "\n",
    "\n",
    "def batches2string(batches):\n",
    "    \"\"\"Convert a sequence of batches back into their (most likely) string\n",
    "    representation.\"\"\"\n",
    "    string = [''] * batches[0].shape[0]\n",
    "\n",
    "    for batch in batches:\n",
    "        string = [''.join(string_tuple) for string_tuple in zip(string, characters(batch))]\n",
    "\n",
    "    return string\n",
    "\n",
    "\n",
    "def log_prob(predictions, labels):\n",
    "    \"\"\"Log-probability of the true labels in a predicted batch.\"\"\"\n",
    "    predictions[predictions < 1e-10] = 1e-10\n",
    "    return np.sum(np.multiply(labels, -np.log(predictions))) / labels.shape[0]\n",
    "\n",
    "\n",
    "def sample_distribution(distribution):\n",
    "    \"\"\"Sample one element from a distribution assumed to be an array of normalized probabilities.\"\"\"\n",
    "    r = random.uniform(0, 1)\n",
    "    s = 0\n",
    "\n",
    "    for i in range(len(distribution)):\n",
    "        s += distribution[i]\n",
    "\n",
    "        if s >= r:\n",
    "            return i\n",
    "\n",
    "    return len(distribution) - 1\n",
    "\n",
    "def sample(prediction):\n",
    "    \"\"\"Turn a (column) prediction into 1-hot encoded samples.\"\"\"\n",
    "    p = np.zeros(shape=[1, VOCABULARY_SIZE], dtype=np.float)\n",
    "    p[0, sample_distribution(prediction[0])] = 1.0\n",
    "    return p\n",
    "\n",
    "\n",
    "def random_distribution():\n",
    "    \"\"\"Generate a random column of probabilities.\"\"\"\n",
    "    b = np.random.uniform(0.0, 1.0, size=[1, VOCABULARY_SIZE])\n",
    "    return b / np.sum(b, 1)[:, None]\n",
    "\n",
    "\n",
    "def bigram_label2unigram_label(bigram_one_hot_encodings, batch_size=BATCH_SIZE):\n",
    "    unigram_id_labels = np.where(bigram_one_hot_encodings == 1)[1] // CHARACTER_SIZE\n",
    "    return np.array([[float(char_id == unigram_id_labels[batch_id]) for char_id in range(CHARACTER_SIZE)] for batch_id in range(batch_size)])"
   ]
  },
  {
   "cell_type": "code",
   "execution_count": 35,
   "metadata": {
    "collapsed": false
   },
   "outputs": [],
   "source": [
    "def TrainBigramLSTM(text, nsteps, embeddings=None):\n",
    "\n",
    "    valid_text = text[:VALID_SIZE]\n",
    "    train_text = text[VALID_SIZE:]\n",
    "    train_size = len(train_text)\n",
    "\n",
    "    train_batches = BatchGenerator(train_text, BATCH_SIZE, NUM_UNROLLINGS)\n",
    "    valid_batches = BatchGenerator(valid_text, 1, 1)\n",
    "\n",
    "    # simple LSTM Model\n",
    "    graph = tf.Graph()\n",
    "    with graph.as_default():\n",
    "        # Parameters for input, forget, cell state, and output gates\n",
    "        W_lstm = tf.Variable(tf.truncated_normal([EMBEDDING_DIMENSION + NUM_NODES, NUM_NODES * 4]))\n",
    "        b_lstm = tf.Variable(tf.zeros([1, NUM_NODES * 4]))\n",
    "\n",
    "        # Variables saving state across unrollings.\n",
    "        previous_output = tf.Variable(tf.zeros([BATCH_SIZE, NUM_NODES]), trainable=False)\n",
    "        previous_state = tf.Variable(tf.zeros([BATCH_SIZE, NUM_NODES]), trainable=False)\n",
    "\n",
    "        # Classifier weights and biases.\n",
    "        W = tf.Variable(tf.truncated_normal([NUM_NODES, VOCABULARY_SIZE], -0.1, 0.1))\n",
    "        b = tf.Variable(tf.zeros([VOCABULARY_SIZE]))\n",
    "\n",
    "        # embedding\n",
    "        if embeddings is not None:\n",
    "            print('Loading embeddings with shape {} ...'.format(embeddings.shape))\n",
    "            embeddings = tf.Variable(embeddings)\n",
    "        else:\n",
    "            embeddings = tf.Variable(tf.random_uniform([VOCABULARY_SIZE, EMBEDDING_DIMENSION], minval=-1.0, maxval=1.0))\n",
    "\n",
    "        # Definition of the cell computation.\n",
    "        def lstm_cell(X, output, state):\n",
    "\n",
    "            X_output = tf.concat(1, [X, output])\n",
    "            all_logits = tf.matmul(X_output, W_lstm) + b_lstm\n",
    "\n",
    "            input_gate = tf.sigmoid(all_logits[:, :NUM_NODES])\n",
    "            forget_gate = tf.sigmoid(all_logits[:, NUM_NODES: NUM_NODES * 2])\n",
    "            output_gate = tf.sigmoid(all_logits[:, NUM_NODES * 2: NUM_NODES * 3])\n",
    "            temp_state = all_logits[:, NUM_NODES * 3:]\n",
    "            state = forget_gate * state + input_gate * tf.tanh(temp_state)\n",
    "\n",
    "            return output_gate * tf.tanh(state), state\n",
    "\n",
    "\n",
    "        # Input data.\n",
    "        train_X = list()\n",
    "        train_labels = list()\n",
    "        for _ in range(NUM_UNROLLINGS):\n",
    "            train_X.append(tf.placeholder(tf.int32, shape=[BATCH_SIZE, 1]))\n",
    "            train_labels.append(tf.placeholder(tf.float32, shape=[BATCH_SIZE, VOCABULARY_SIZE]))\n",
    "\n",
    "        # Unrolled LSTM loop.\n",
    "        outputs = list()\n",
    "        output = previous_output\n",
    "        state = previous_state\n",
    "\n",
    "        for X in train_X:\n",
    "            embed = tf.reshape(tf.nn.embedding_lookup(embeddings, X), shape=[BATCH_SIZE, -1])\n",
    "            output, state = lstm_cell(embed, output, state)\n",
    "            outputs.append(output)\n",
    "\n",
    "        # State saving across unrollings.\n",
    "        with tf.control_dependencies([previous_output.assign(output), previous_state.assign(state)]):\n",
    "            # Classifier.\n",
    "            logits = tf.nn.xw_plus_b(tf.nn.dropout(tf.concat(0, outputs), DROPOUT_PROBABILITY), W, b)\n",
    "            loss = tf.reduce_mean(tf.nn.softmax_cross_entropy_with_logits(logits, tf.concat(0, train_labels)))\n",
    "\n",
    "        # Optimizer.\n",
    "        global_step = tf.Variable(0)\n",
    "        learning_rate = tf.train.exponential_decay(10.0, global_step, 5000, 0.1, staircase=True)\n",
    "        optimizer = tf.train.GradientDescentOptimizer(learning_rate)\n",
    "        gradients, v = zip(*optimizer.compute_gradients(loss))\n",
    "        gradients, _ = tf.clip_by_global_norm(gradients, 1.25)\n",
    "        optimizer = optimizer.apply_gradients(zip(gradients, v), global_step=global_step)\n",
    "\n",
    "        # Predictions.\n",
    "        train_prediction = tf.nn.softmax(logits)\n",
    "\n",
    "        # Sampling and validation eval: batch 1, no unrolling.\n",
    "        sample_input = tf.placeholder(tf.int32, shape=[1, 1])\n",
    "        sample_embed = tf.reshape(tf.nn.embedding_lookup(embeddings, sample_input), shape=[1, -1])\n",
    "        previous_sample_output = tf.Variable(tf.zeros([1, NUM_NODES]))\n",
    "        previous_sample_state = tf.Variable(tf.zeros([1, NUM_NODES]))\n",
    "        reset_sample_state = tf.group(previous_sample_output.assign(tf.zeros([1, NUM_NODES])), previous_sample_state.assign(tf.zeros([1, NUM_NODES])))\n",
    "        sample_output, sample_state = lstm_cell(sample_embed, previous_sample_output, previous_sample_state)\n",
    "\n",
    "        with tf.control_dependencies([previous_sample_output.assign(sample_output), previous_sample_state.assign(sample_state)]):\n",
    "            sample_prediction = tf.nn.softmax(tf.nn.xw_plus_b(sample_output, W, b))\n",
    "\n",
    "\n",
    "    # Run the model\n",
    "    with tf.Session(graph=graph) as session:\n",
    "        lh = []\n",
    "        tf.initialize_all_variables().run()\n",
    "        print('Initialized')\n",
    "        mean_loss = 0\n",
    "\n",
    "        for step in range(nsteps):\n",
    "            batches = train_batches.next()\n",
    "            feed_dict = dict()\n",
    "\n",
    "            for batch_id in range(NUM_UNROLLINGS):\n",
    "                feed_dict[train_X[batch_id]] = np.where(batches[batch_id] == 1)[1].reshape((-1, 1))\n",
    "                feed_dict[train_labels[batch_id]] = batches[batch_id + 1]\n",
    "\n",
    "            _, l, predictions, lr = session.run([optimizer, loss, train_prediction, learning_rate], feed_dict=feed_dict)\n",
    "\n",
    "            mean_loss += l\n",
    "\n",
    "            if step % SUMMARY_FREQUENCY == 0:\n",
    "                if step > 0:\n",
    "                    mean_loss = mean_loss / SUMMARY_FREQUENCY\n",
    "                display.clear_output(wait=True)\n",
    "                lh.append(mean_loss)\n",
    "                # The mean loss is an estimate of the loss over the last few batches.\n",
    "                print('Average loss at step %d: %f learning rate: %f' % (step, mean_loss, lr))\n",
    "                \n",
    "                plt.figure(figsize=(14, 10))\n",
    "                plt.title(\"Training loss, step {}/{}\".format(step, nsteps))\n",
    "                plt.xlabel(\"step\")\n",
    "                plt.ylabel(\"loss\")\n",
    "                plt.plot(lh, 'b')\n",
    "                plt.show()\n",
    "\n",
    "                mean_loss = 0\n",
    "                labels = np.concatenate([batch for batch in batches[1:]])\n",
    "                #print('Minibatch perplexity: %.2f' % float(np.exp(log_prob(predictions, labels))))\n",
    "\n",
    "                if step % (SUMMARY_FREQUENCY * 10) == 0:\n",
    "                    # Generate some samples.\n",
    "\n",
    "                    for _ in range(3):\n",
    "                        feed = sample(random_distribution())\n",
    "                        sentence = bigrams(feed)[0]\n",
    "                        reset_sample_state.run()\n",
    "\n",
    "                        for _ in range(69):\n",
    "                            feed = np.where(feed == 1)[1].reshape((-1, 1))\n",
    "                            prediction = sample_prediction.eval({sample_input: feed})\n",
    "                            feed = sample(prediction)\n",
    "                            sentence += ''.join(bigrams(feed))\n",
    "                            last_bigram_id = bigram2id(sentence[-2:])\n",
    "                            feed = np.array([[float(last_bigram_id == bigram_id) for bigram_id in range(VOCABULARY_SIZE)]])                    \n",
    "                    \n",
    "                print('=' * 80)\n",
    "                print('Networks says:', sentence)\n",
    "                print('=' * 80)\n",
    "\n",
    "                # Measure validation set perplexity.\n",
    "                reset_sample_state.run()\n",
    "                valid_log_prob = 0\n",
    "\n",
    "                for _ in range(VALID_SIZE):\n",
    "                    valid_batch = valid_batches.next()\n",
    "                    predictions = sample_prediction.eval({sample_input: np.where(valid_batch[0] == 1)[1].reshape((-1, 1))})\n",
    "                    valid_log_prob = valid_log_prob + log_prob(predictions, valid_batch[1])\n",
    "\n",
    "                print('Validation set perplexity: %.2f' % float(np.exp(valid_log_prob / VALID_SIZE)))\n",
    "                \n",
    "    return session, graph"
   ]
  },
  {
   "cell_type": "code",
   "execution_count": null,
   "metadata": {
    "collapsed": false
   },
   "outputs": [],
   "source": []
  },
  {
   "cell_type": "code",
   "execution_count": 28,
   "metadata": {
    "collapsed": false
   },
   "outputs": [
    {
     "name": "stdout",
     "output_type": "stream",
     "text": [
      "Average loss at step 19900: 3.373253 learning rate: 0.010000\n"
     ]
    },
    {
     "data": {
      "image/png": "[encoded data removed]",
      "text/plain": [
       "<matplotlib.figure.Figure at 0x7f3768e52050>"
      ]
     },
     "metadata": {},
     "output_type": "display_data"
    },
    {
     "name": "stdout",
     "output_type": "stream",
     "text": [
      "================================================================================\n",
      "Networks says: succomplarenlf celts in is paec ortacre orlimex s an tute of thedor origing ladeugh jx aftrogrited coluttion wroina the manyly partard of eu\n",
      "================================================================================\n",
      "Validation set perplexity: 19.64\n"
     ]
    }
   ],
   "source": [
    "sesh = TrainBigramLSTM(text, 20000, BI_EMB)"
   ]
  },
  {
   "cell_type": "markdown",
   "metadata": {
    "colab_type": "text",
    "id": "Y5tapX3kpcqZ"
   },
   "source": [
    "---\n",
    "Problem 3\n",
    "---------\n",
    "\n",
    "(difficult!)\n",
    "\n",
    "Write a sequence-to-sequence LSTM which mirrors all the words in a sentence. For example, if your input is:\n",
    "\n",
    "    the quick brown fox\n",
    "    \n",
    "the model should attempt to output:\n",
    "\n",
    "    eht kciuq nworb xof\n",
    "    \n",
    "Refer to the lecture on how to put together a sequence-to-sequence model, as well as [this article](http://arxiv.org/abs/1409.3215) for best practices.\n",
    "\n",
    "---"
   ]
  },
  {
   "cell_type": "markdown",
   "metadata": {
    "collapsed": true
   },
   "source": [
    "# TBD"
   ]
  },
  {
   "cell_type": "code",
   "execution_count": null,
   "metadata": {
    "collapsed": true
   },
   "outputs": [],
   "source": []
  },
  {
   "cell_type": "code",
   "execution_count": null,
   "metadata": {
    "collapsed": false
   },
   "outputs": [],
   "source": []
  },
  {
   "cell_type": "code",
   "execution_count": null,
   "metadata": {
    "collapsed": false
   },
   "outputs": [],
   "source": []
  },
  {
   "cell_type": "code",
   "execution_count": null,
   "metadata": {
    "collapsed": true
   },
   "outputs": [],
   "source": []
  }
 ],
 "metadata": {
  "colab": {
   "default_view": {},
   "name": "6_lstm.ipynb",
   "provenance": [],
   "version": "0.3.2",
   "views": {}
  },
  "kernelspec": {
   "display_name": "Python 2",
   "language": "python",
   "name": "python2"
  },
  "language_info": {
   "codemirror_mode": {
    "name": "ipython",
    "version": 2
   },
   "file_extension": ".py",
   "mimetype": "text/x-python",
   "name": "python",
   "nbconvert_exporter": "python",
   "pygments_lexer": "ipython2",
   "version": "2.7.6"
  }
 },
 "nbformat": 4,
 "nbformat_minor": 0
}
